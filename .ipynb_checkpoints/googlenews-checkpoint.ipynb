{
 "cells": [
  {
   "cell_type": "code",
   "execution_count": 2,
   "metadata": {
    "scrolled": true
   },
   "outputs": [],
   "source": [
    "# Load packages\n",
    "import pandas as pd\n",
    "import numpy as np\n",
    "import time\n",
    "import pytz\n",
    "import matplotlib.pyplot as plt\n",
    "\n",
    "import lxml.html as lx\n",
    "import requests\n",
    "import requests_cache\n",
    "\n",
    "import newspaper\n",
    "from newspaper import Article\n",
    "from newspaper import news_pool\n",
    "\n",
    "import nltk\n",
    "from nltk.corpus import wordnet\n",
    "from wordcloud import WordCloud, STOPWORDS\n",
    "import re\n",
    "\n",
    "from sklearn.feature_extraction.text import CountVectorizer\n",
    "\n",
    "import pickle\n",
    "\n",
    "plt.rcParams[\"figure.figsize\"] = [10, 8]"
   ]
  },
  {
   "cell_type": "markdown",
   "metadata": {},
   "source": [
    "Useful links for newspaper3k:\n",
    "https://opendatascience.com/using-the-newspaper-library-to-scrape-news-articles/\n",
    "https://www.geeksforgeeks.org/newspaper-article-scraping-curation-python/"
   ]
  },
  {
   "cell_type": "code",
   "execution_count": null,
   "metadata": {
    "scrolled": true
   },
   "outputs": [],
   "source": [
    "# Test the newspaper function.\n",
    "link = \"https://www.nytimes.com/2019/02/28/business/energy-environment/pge-camp-fire.html\"\n",
    "#link = 'https://krcrtv.com/news/butte-county/highway-70-to-be-closed-for-emergency-camp-fire-repairs'\n",
    "#link = \"http://krcrtv.com/news/butte-county/hundreds-of-trips-made-per-day-from-paradise-to-oroville-and-wheatland-with-debris\"\n",
    "#link = \"https://krcrtv.com/news/camp-fire/camp-fire-debris-removal-could-be-halted-due-to-weather-cal-recycle-says\"\n",
    "article = Article(link)\n",
    "article.download()\n",
    "article.parse()\n",
    "article.text"
   ]
  },
  {
   "cell_type": "code",
   "execution_count": null,
   "metadata": {
    "scrolled": true
   },
   "outputs": [],
   "source": [
    "# Get google news links for each search term\n",
    "search_term_links = [\n",
    "    \"https://news.google.com/search?q=camp%20fire&hl=en-US&gl=US&ceid=US%3Aen\",\n",
    "    \"https://news.google.com/search?for=camp%20fire%20death%20toll&hl=en-US&gl=US&ceid=US%3Aen\",\n",
    "    \"https://news.google.com/search?for=camp%20fire%20california&hl=en-US&gl=US&ceid=US%3Aen\",\n",
    "    \"https://news.google.com/search?for=camp%20fire%20paradise&hl=en-US&gl=US&ceid=US%3Aen\",\n",
    "    \"https://news.google.com/search?for=camp%20fire%20map&hl=en-US&gl=US&ceid=US%3Aen\",\n",
    "    \"https://news.google.com/search?for=camp%20fire%20news&hl=en-US&gl=US&ceid=US%3Aen\",\n",
    "    \"https://news.google.com/search?for=camp%20fire%20cleanup&hl=en-US&gl=US&ceid=US%3Aen\",\n",
    "    \"https://news.google.com/search?for=camp%20fire%20debris%20removal&hl=en-US&gl=US&ceid=US%3Aen\",\n",
    "    \"https://news.google.com/search?for=camp%20fire%20pg&e&hl=en-US&gl=US&ceid=US%3Aen\",\n",
    "    \"https://news.google.com/search?for=camp%20fire%20investigation&hl=en-US&gl=US&ceid=US%3Aen\"\n",
    "]"
   ]
  },
  {
   "cell_type": "code",
   "execution_count": null,
   "metadata": {
    "scrolled": true
   },
   "outputs": [],
   "source": [
    "# Get article links\n",
    "def get_links(url):\n",
    "    \"\"\"Gets the article links for one Chronicle article list. The parameter \"url\" is the url to the \n",
    "    article list.\"\"\"\n",
    "    \n",
    "    response = requests.get(url)\n",
    "    response.raise_for_status()\n",
    "    html = lx.fromstring(response.text)\n",
    "    html.make_links_absolute(url)\n",
    "    \n",
    "    # Get the links that contain the word \"article\".\n",
    "    #links = html.xpath(\"//div/a/@href\")\n",
    "    links = html.xpath(\"//*[contains(@class, 'NiLAwe y6IFtc R7GTQ keNKEd j7vNaf nID9nc')]/a/@href\")\n",
    "\n",
    "    return links"
   ]
  },
  {
   "cell_type": "code",
   "execution_count": null,
   "metadata": {
    "scrolled": true
   },
   "outputs": [],
   "source": [
    "# Get article links for each search term\n",
    "l = [get_links(l) for l in search_term_links]\n",
    "\n",
    "# Unlist the links and get the unique links.\n",
    "links = [item for sublist in l for item in sublist]\n",
    "links = np.unique(links)\n",
    "\n",
    "len(links)"
   ]
  },
  {
   "cell_type": "code",
   "execution_count": null,
   "metadata": {
    "scrolled": true
   },
   "outputs": [],
   "source": [
    "# Extract text and publish data for the urls\n",
    "\n",
    "def get_article_info(link):\n",
    "    \"\"\"Extract the title, text, publish date from a news article. The parameter link is the article link.\n",
    "    Returns a dictionary of title, text, publish date, and url.\"\"\"\n",
    "    \n",
    "    # Do not get the images.\n",
    "    article = Article(link, fetch_images = False)\n",
    "    \n",
    "    # Not all articles can be downloaded/parsed.\n",
    "    try:\n",
    "        article.download()\n",
    "        article.parse()\n",
    "        \n",
    "        title = article.title\n",
    "        text = article.text # was in a try/except block\n",
    "        date = article.publish_date\n",
    "    except:\n",
    "        # If article can't be parsed, set the variables to None.\n",
    "        title = None\n",
    "        text = None\n",
    "        date = None\n",
    "    \n",
    "    url = link\n",
    "    \n",
    "    res = {\"url\": url, \n",
    "           \"title\": title, \n",
    "           \"text\": text,\n",
    "           \"date\": date}\n",
    "    \n",
    "    return res"
   ]
  },
  {
   "cell_type": "code",
   "execution_count": null,
   "metadata": {
    "scrolled": true
   },
   "outputs": [],
   "source": [
    "# test it\n",
    "link = links[1]\n",
    "get_article_info(link)"
   ]
  },
  {
   "cell_type": "code",
   "execution_count": null,
   "metadata": {
    "scrolled": true
   },
   "outputs": [],
   "source": [
    "# Convert the article list to a dataframe.\n",
    "articles = pd.DataFrame(article_list)\n",
    "\n",
    "# Remove articles where we could not extract the the text.\n",
    "articles = articles[~articles[\"text\"].isna()]\n",
    "\n",
    "# Convert the date column to datetime type\n",
    "articles[\"date\"] = pd.to_datetime(articles[\"date\"], utc = True)\n",
    "\n",
    "# Remove articles from paradise post (because this is from our local news source and we don't want overlap).\n",
    "articles = articles[~articles[\"url\"].str.contains(\"paradisepost\")]"
   ]
  },
  {
   "cell_type": "code",
   "execution_count": null,
   "metadata": {
    "scrolled": true
   },
   "outputs": [],
   "source": [
    "# Extract article info. Returns a list of dictionaries.\n",
    "# article_list = [get_article_info(x) for x in links]\n",
    "\n",
    "# Save the dataframe\n",
    "# articles.to_pickle(\"articles.txt\")\n",
    "\n",
    "# I saved the article dataframe with pickle so that I don't have to extract the article info again.\n",
    "articles = pd.read_pickle(\"articles.txt\")\n",
    "articles.head()"
   ]
  },
  {
   "cell_type": "code",
   "execution_count": 7,
   "metadata": {},
   "outputs": [
    {
     "data": {
      "text/html": [
       "<div>\n",
       "<style scoped>\n",
       "    .dataframe tbody tr th:only-of-type {\n",
       "        vertical-align: middle;\n",
       "    }\n",
       "\n",
       "    .dataframe tbody tr th {\n",
       "        vertical-align: top;\n",
       "    }\n",
       "\n",
       "    .dataframe thead th {\n",
       "        text-align: right;\n",
       "    }\n",
       "</style>\n",
       "<table border=\"1\" class=\"dataframe\">\n",
       "  <thead>\n",
       "    <tr style=\"text-align: right;\">\n",
       "      <th></th>\n",
       "      <th>text</th>\n",
       "      <th>title</th>\n",
       "      <th>source</th>\n",
       "    </tr>\n",
       "  </thead>\n",
       "  <tbody>\n",
       "    <tr>\n",
       "      <th>0</th>\n",
       "      <td>California wildfires are raging this summer, b...</td>\n",
       "      <td>California Fires Map: Get the Latest Updates f...</td>\n",
       "      <td>Google News</td>\n",
       "    </tr>\n",
       "    <tr>\n",
       "      <th>1</th>\n",
       "      <td>California wildfires are burning again, with t...</td>\n",
       "      <td>California Fires: Wildfires Map for Camp, Wool...</td>\n",
       "      <td>Google News</td>\n",
       "    </tr>\n",
       "    <tr>\n",
       "      <th>2</th>\n",
       "      <td>Corrected, Dec. 12., 3:05p.m. ET\\n\\nFollowing ...</td>\n",
       "      <td>35 Paradise Families Sue PG&amp;E Over California'...</td>\n",
       "      <td>Google News</td>\n",
       "    </tr>\n",
       "    <tr>\n",
       "      <th>3</th>\n",
       "      <td>It’s one thing to read about the massive devas...</td>\n",
       "      <td>Heartbreaking 360-Degree Film Shows Aftermath ...</td>\n",
       "      <td>Google News</td>\n",
       "    </tr>\n",
       "    <tr>\n",
       "      <th>4</th>\n",
       "      <td>PG&amp;E is restructuring its board following the ...</td>\n",
       "      <td>PG&amp;E Board of Directors Is Restructuring After...</td>\n",
       "      <td>Google News</td>\n",
       "    </tr>\n",
       "  </tbody>\n",
       "</table>\n",
       "</div>"
      ],
      "text/plain": [
       "                                                text  \\\n",
       "0  California wildfires are raging this summer, b...   \n",
       "1  California wildfires are burning again, with t...   \n",
       "2  Corrected, Dec. 12., 3:05p.m. ET\\n\\nFollowing ...   \n",
       "3  It’s one thing to read about the massive devas...   \n",
       "4  PG&E is restructuring its board following the ...   \n",
       "\n",
       "                                               title       source  \n",
       "0  California Fires Map: Get the Latest Updates f...  Google News  \n",
       "1  California Fires: Wildfires Map for Camp, Wool...  Google News  \n",
       "2  35 Paradise Families Sue PG&E Over California'...  Google News  \n",
       "3  Heartbreaking 360-Degree Film Shows Aftermath ...  Google News  \n",
       "4  PG&E Board of Directors Is Restructuring After...  Google News  "
      ]
     },
     "execution_count": 7,
     "metadata": {},
     "output_type": "execute_result"
    }
   ],
   "source": [
    "# Only keep the title and text in this dataframe so we can merge all three news sources.\n",
    "# articles_gn = articles.loc[:,['text', 'title']]\n",
    "# articles_gn[\"title\"] = articles_gn[\"title\"].str.replace(\"\\n\",\"\")\n",
    "# articles_gn[\"source\"] = \"Google News\"\n",
    "# articles_gn\n",
    "\n",
    "# Save the dataframe\n",
    "#articles_gn.to_pickle(\"articles_gn.txt\")\n",
    "articles_gn = pd.read_pickle(\"articles_gn.txt\")\n",
    "articles_gn.head()"
   ]
  },
  {
   "cell_type": "code",
   "execution_count": 9,
   "metadata": {
    "scrolled": true
   },
   "outputs": [],
   "source": [
    "def tokenize_text(df):\n",
    "    \"\"\"Combine the strings in the \"text\" column of dataframe df into one long string. Then, tokenize the\n",
    "    string and make all words lowercase.\"\"\"\n",
    "    \n",
    "    # Combine the \"text\" column into a string.\n",
    "    doc = ' '.join(df['text'].tolist())\n",
    "\n",
    "    # Tokenize and make lowercase.\n",
    "    words = nltk.word_tokenize(doc)\n",
    "    words = [w.lower() for w in words]\n",
    "    \n",
    "    return words"
   ]
  },
  {
   "cell_type": "code",
   "execution_count": 10,
   "metadata": {
    "scrolled": true
   },
   "outputs": [],
   "source": [
    "# I took this function from Nick's lecture 2/14. It is for lemmitization.\n",
    "def wordnet_pos(tag):\n",
    "    \"\"\"Map a Brown POS tag to a WordNet POS tag.\"\"\"\n",
    "    \n",
    "    table = {\"N\": wordnet.NOUN, \"V\": wordnet.VERB, \"R\": wordnet.ADV, \"J\": wordnet.ADJ}\n",
    "    \n",
    "    # Default to a noun.\n",
    "    return table.get(tag[0], wordnet.NOUN)"
   ]
  },
  {
   "cell_type": "code",
   "execution_count": 11,
   "metadata": {
    "scrolled": true
   },
   "outputs": [],
   "source": [
    "def lemmatize_text(words):\n",
    "    \"\"\"Lemmatize words to get the base words. The input 'words' is a list of of words.\"\"\"\n",
    "    \n",
    "    lemmatizer = nltk.WordNetLemmatizer()\n",
    "    word_tags = nltk.pos_tag(words)\n",
    "    words = [lemmatizer.lemmatize(w, wordnet_pos(t)) for (w, t) in word_tags]\n",
    "    \n",
    "    return words"
   ]
  },
  {
   "cell_type": "code",
   "execution_count": 12,
   "metadata": {
    "scrolled": true
   },
   "outputs": [],
   "source": [
    "def remove_stopwords(words):\n",
    "    \"\"\"Remove stopwords from a string.\"\"\"\n",
    "    \n",
    "    stopwords = nltk.corpus.stopwords.words(\"english\")\n",
    "    words = [w for w in words if w not in stopwords]\n",
    "    \n",
    "    return words"
   ]
  },
  {
   "cell_type": "code",
   "execution_count": null,
   "metadata": {
    "scrolled": true
   },
   "outputs": [],
   "source": [
    "# Tokenize, lemmatize, and remove stopwords for the text of all articles.\n",
    "words = tokenize_text(articles)\n",
    "words = lemmatize_text(words)\n",
    "words = remove_stopwords(words)\n",
    "words = [w for w in words if w.isalnum()]"
   ]
  },
  {
   "cell_type": "code",
   "execution_count": null,
   "metadata": {
    "scrolled": false
   },
   "outputs": [],
   "source": [
    "# Create a frequency plot.\n",
    "fq = nltk.FreqDist(w for w in words if w.isalnum())\n",
    "fq.plot(25, title = \"Top 25 Word Frequencies\")"
   ]
  },
  {
   "cell_type": "code",
   "execution_count": 13,
   "metadata": {
    "scrolled": true
   },
   "outputs": [
    {
     "data": {
      "image/png": "[encoded data removed]",
      "text/plain": [
       "<Figure size 432x288 with 1 Axes>"
      ]
     },
     "metadata": {
      "needs_background": "light"
     },
     "output_type": "display_data"
    }
   ],
   "source": [
    "# Word cloud for all word articles we extracted from Google News.\n",
    "doc = ' '.join(articles_gn['text'].tolist())\n",
    "wordcloud = WordCloud(width = 800, \n",
    "                      height = 400, \n",
    "                      max_font_size = 100,\n",
    "                      max_words = 100,\n",
    "                     background_color = \"white\").generate(doc)\n",
    "plt.imshow(wordcloud, interpolation='bilinear')\n",
    "plt.axis(\"off\")\n",
    "plt.show()"
   ]
  },
  {
   "cell_type": "code",
   "execution_count": 14,
   "metadata": {
    "scrolled": true
   },
   "outputs": [],
   "source": [
    "# This function is for cleaning the text for tfidf.\n",
    "# I adapted this function from http://brandonrose.org/clustering so that it lemmitizes the words as well.\n",
    "\n",
    "def tokenize_and_lem(text):\n",
    "    \"\"\"Tokenizes and lemmatizes a string. The input is a single string. The output is a list of words that\n",
    "    has been tokenized and lemmatized.\"\"\"\n",
    "    \n",
    "    # first tokenize by sentence, then by word to ensure that punctuation is caught as it's own token\n",
    "    tokens = [word for sent in nltk.sent_tokenize(text) for word in nltk.word_tokenize(sent)]\n",
    "    filtered_tokens = []\n",
    "    # filter out any tokens not containing letters (e.g., numeric tokens, raw punctuation)\n",
    "    for token in tokens:\n",
    "        if re.search('[a-zA-Z]', token):\n",
    "            filtered_tokens.append(token)\n",
    "    \n",
    "    lem = lemmatize_text(filtered_tokens)\n",
    "    return lem\n"
   ]
  },
  {
   "cell_type": "code",
   "execution_count": 29,
   "metadata": {
    "scrolled": true
   },
   "outputs": [],
   "source": [
    "from sklearn.feature_extraction.text import TfidfVectorizer\n",
    "\n",
    "# Generate the tfidf matrix for all google articles combined.\n",
    "text_list = articles_gn['text'].tolist()\n",
    "vec = TfidfVectorizer(max_df = 0.8, min_df=0.2,\n",
    "                      tokenizer = tokenize_and_lem, \n",
    "                      stop_words = \"english\", \n",
    "                      sublinear_tf = True)\n",
    "tfidf = vec.fit_transform(text_list)"
   ]
  },
  {
   "cell_type": "code",
   "execution_count": null,
   "metadata": {
    "scrolled": true
   },
   "outputs": [],
   "source": [
    "# Show tfidf dimensions.\n",
    "tfidf"
   ]
  },
  {
   "cell_type": "code",
   "execution_count": null,
   "metadata": {},
   "outputs": [],
   "source": [
    "# Show some of the terms in the tfidf.\n",
    "terms = vec.get_feature_names()\n",
    "terms[:10]"
   ]
  },
  {
   "cell_type": "code",
   "execution_count": null,
   "metadata": {
    "scrolled": true
   },
   "outputs": [],
   "source": [
    "# Tfidf for bigrams\n",
    "text_list = articles['text'].tolist()\n",
    "vec_bigram = TfidfVectorizer(min_df=0.1,\n",
    "                      tokenizer = tokenize_and_lem, \n",
    "                      stop_words = \"english\", \n",
    "                      sublinear_tf = True,\n",
    "                      ngram_range=(2,2))\n",
    "tfidf_bigram = vec_bigram.fit_transform(text_list)"
   ]
  },
  {
   "cell_type": "code",
   "execution_count": null,
   "metadata": {
    "scrolled": true
   },
   "outputs": [],
   "source": [
    "# Show some of the terms from the bigram tfidf\n",
    "terms_bigram = vec_bigram.get_feature_names()\n",
    "terms_bigram[:10]"
   ]
  },
  {
   "cell_type": "code",
   "execution_count": null,
   "metadata": {
    "scrolled": true
   },
   "outputs": [],
   "source": [
    "from sklearn.metrics.pairwise import cosine_similarity\n",
    "\n",
    "# Calculate the cosine distance.\n",
    "dist = 1 - cosine_similarity(tfidf)"
   ]
  },
  {
   "cell_type": "code",
   "execution_count": null,
   "metadata": {
    "scrolled": true
   },
   "outputs": [],
   "source": [
    "dist"
   ]
  },
  {
   "cell_type": "code",
   "execution_count": null,
   "metadata": {
    "scrolled": true
   },
   "outputs": [],
   "source": [
    "# Sample\n",
    "articles.sample(5)"
   ]
  },
  {
   "cell_type": "code",
   "execution_count": 16,
   "metadata": {},
   "outputs": [
    {
     "data": {
      "text/html": [
       "<div>\n",
       "<style scoped>\n",
       "    .dataframe tbody tr th:only-of-type {\n",
       "        vertical-align: middle;\n",
       "    }\n",
       "\n",
       "    .dataframe tbody tr th {\n",
       "        vertical-align: top;\n",
       "    }\n",
       "\n",
       "    .dataframe thead th {\n",
       "        text-align: right;\n",
       "    }\n",
       "</style>\n",
       "<table border=\"1\" class=\"dataframe\">\n",
       "  <thead>\n",
       "    <tr style=\"text-align: right;\">\n",
       "      <th></th>\n",
       "      <th>text</th>\n",
       "      <th>title</th>\n",
       "      <th>source</th>\n",
       "    </tr>\n",
       "  </thead>\n",
       "  <tbody>\n",
       "    <tr>\n",
       "      <th>0</th>\n",
       "      <td>California wildfires are raging this summer, b...</td>\n",
       "      <td>California Fires Map: Get the Latest Updates f...</td>\n",
       "      <td>Google News</td>\n",
       "    </tr>\n",
       "    <tr>\n",
       "      <th>1</th>\n",
       "      <td>California wildfires are burning again, with t...</td>\n",
       "      <td>California Fires: Wildfires Map for Camp, Wool...</td>\n",
       "      <td>Google News</td>\n",
       "    </tr>\n",
       "    <tr>\n",
       "      <th>2</th>\n",
       "      <td>Corrected, Dec. 12., 3:05p.m. ET\\n\\nFollowing ...</td>\n",
       "      <td>35 Paradise Families Sue PG&amp;E Over California'...</td>\n",
       "      <td>Google News</td>\n",
       "    </tr>\n",
       "    <tr>\n",
       "      <th>3</th>\n",
       "      <td>It’s one thing to read about the massive devas...</td>\n",
       "      <td>Heartbreaking 360-Degree Film Shows Aftermath ...</td>\n",
       "      <td>Google News</td>\n",
       "    </tr>\n",
       "    <tr>\n",
       "      <th>4</th>\n",
       "      <td>PG&amp;E is restructuring its board following the ...</td>\n",
       "      <td>PG&amp;E Board of Directors Is Restructuring After...</td>\n",
       "      <td>Google News</td>\n",
       "    </tr>\n",
       "  </tbody>\n",
       "</table>\n",
       "</div>"
      ],
      "text/plain": [
       "                                                text  \\\n",
       "0  California wildfires are raging this summer, b...   \n",
       "1  California wildfires are burning again, with t...   \n",
       "2  Corrected, Dec. 12., 3:05p.m. ET\\n\\nFollowing ...   \n",
       "3  It’s one thing to read about the massive devas...   \n",
       "4  PG&E is restructuring its board following the ...   \n",
       "\n",
       "                                               title       source  \n",
       "0  California Fires Map: Get the Latest Updates f...  Google News  \n",
       "1  California Fires: Wildfires Map for Camp, Wool...  Google News  \n",
       "2  35 Paradise Families Sue PG&E Over California'...  Google News  \n",
       "3  Heartbreaking 360-Degree Film Shows Aftermath ...  Google News  \n",
       "4  PG&E Board of Directors Is Restructuring After...  Google News  "
      ]
     },
     "execution_count": 16,
     "metadata": {},
     "output_type": "execute_result"
    }
   ],
   "source": [
    "# Analysis of all articles and tweets\n",
    "all_df = pd.read_pickle(\"all_df.txt\")\n",
    "all_df.head()"
   ]
  },
  {
   "cell_type": "code",
   "execution_count": 65,
   "metadata": {},
   "outputs": [
    {
     "data": {
      "text/html": [
       "<div>\n",
       "<style scoped>\n",
       "    .dataframe tbody tr th:only-of-type {\n",
       "        vertical-align: middle;\n",
       "    }\n",
       "\n",
       "    .dataframe tbody tr th {\n",
       "        vertical-align: top;\n",
       "    }\n",
       "\n",
       "    .dataframe thead th {\n",
       "        text-align: right;\n",
       "    }\n",
       "</style>\n",
       "<table border=\"1\" class=\"dataframe\">\n",
       "  <thead>\n",
       "    <tr style=\"text-align: right;\">\n",
       "      <th></th>\n",
       "      <th></th>\n",
       "      <th>text</th>\n",
       "      <th>title</th>\n",
       "      <th>source</th>\n",
       "    </tr>\n",
       "  </thead>\n",
       "  <tbody>\n",
       "    <tr>\n",
       "      <th rowspan=\"30\" valign=\"top\">0</th>\n",
       "      <th>507</th>\n",
       "      <td>Buy Photo The Northern California town of Para...</td>\n",
       "      <td>$3 billion or more: Heavy cost of cleanup for ...</td>\n",
       "      <td>Google News</td>\n",
       "    </tr>\n",
       "    <tr>\n",
       "      <th>252</th>\n",
       "      <td>BUTTE COUNTY, Calif. - The Office of Emergency...</td>\n",
       "      <td>Phase 1 of Camp Fire Debris Cleanup 86 Percent...</td>\n",
       "      <td>Google News</td>\n",
       "    </tr>\n",
       "    <tr>\n",
       "      <th>388</th>\n",
       "      <td>Contractors fired after poking fun at Camp Fir...</td>\n",
       "      <td>Contractors fired after poking fun at Camp Fir...</td>\n",
       "      <td>Google News</td>\n",
       "    </tr>\n",
       "    <tr>\n",
       "      <th>319</th>\n",
       "      <td>Hundreds of Northern California wildfire victi...</td>\n",
       "      <td>California Wildfire Victims Living in RVs Orde...</td>\n",
       "      <td>Google News</td>\n",
       "    </tr>\n",
       "    <tr>\n",
       "      <th>609</th>\n",
       "      <td>CONCOW, Butte County — When Scott realized tha...</td>\n",
       "      <td>Trapped by Camp Fire, more than a dozen people...</td>\n",
       "      <td>Google News</td>\n",
       "    </tr>\n",
       "    <tr>\n",
       "      <th>655</th>\n",
       "      <td>\\n\\nOct. 3, 1933: Injured from the Griffith Pa...</td>\n",
       "      <td>This was the deadliest wildfire in California ...</td>\n",
       "      <td>Google News</td>\n",
       "    </tr>\n",
       "    <tr>\n",
       "      <th>225</th>\n",
       "      <td>1. Was 'Bird Box' filmed in Sacramento? Well, ...</td>\n",
       "      <td>Need to know: PG&amp;E details inspection history ...</td>\n",
       "      <td>Google News</td>\n",
       "    </tr>\n",
       "    <tr>\n",
       "      <th>485</th>\n",
       "      <td>As California's devastating wildfires burn thr...</td>\n",
       "      <td>Map shows haze in Philly came from California ...</td>\n",
       "      <td>Google News</td>\n",
       "    </tr>\n",
       "    <tr>\n",
       "      <th>106</th>\n",
       "      <td>Governor Newsom budgeting an EXTRA $305 millio...</td>\n",
       "      <td>California Gov. Newsom announces new executive...</td>\n",
       "      <td>Google News</td>\n",
       "    </tr>\n",
       "    <tr>\n",
       "      <th>606</th>\n",
       "      <td>PULGA, Butte County — A woman who lives near t...</td>\n",
       "      <td>Homeowner’s claim on PG&amp;E work raises question...</td>\n",
       "      <td>Google News</td>\n",
       "    </tr>\n",
       "    <tr>\n",
       "      <th>579</th>\n",
       "      <td>Gov. Gavin Newsom should immediately allow the...</td>\n",
       "      <td>California wildfires: Report names priority pr...</td>\n",
       "      <td>Google News</td>\n",
       "    </tr>\n",
       "    <tr>\n",
       "      <th>419</th>\n",
       "      <td>PULGA — Cal Fire investigators removed a cross...</td>\n",
       "      <td>Why did fire investigators remove piece of PG&amp;...</td>\n",
       "      <td>Google News</td>\n",
       "    </tr>\n",
       "    <tr>\n",
       "      <th>127</th>\n",
       "      <td>The City of Maple Ridge is seeking a new injun...</td>\n",
       "      <td>Fire at Maple Ridge homeless camp under invest...</td>\n",
       "      <td>Google News</td>\n",
       "    </tr>\n",
       "    <tr>\n",
       "      <th>620</th>\n",
       "      <td>DJI works with 16 first response agencies for ...</td>\n",
       "      <td>Mapping “Camp Fire” with drones, lessons learnt</td>\n",
       "      <td>Google News</td>\n",
       "    </tr>\n",
       "    <tr>\n",
       "      <th>638</th>\n",
       "      <td>CLOSE Evacuation orders could be lifted in the...</td>\n",
       "      <td>Number of Camp Fire missing people drops to 25</td>\n",
       "      <td>Google News</td>\n",
       "    </tr>\n",
       "    <tr>\n",
       "      <th>318</th>\n",
       "      <td>To use this map from Cal Fire:\\n\\nCheck the bo...</td>\n",
       "      <td>Cal Fire Map: Search by address to see damage ...</td>\n",
       "      <td>Google News</td>\n",
       "    </tr>\n",
       "    <tr>\n",
       "      <th>236</th>\n",
       "      <td>BUTTE COUNTY, Calif. - Some Action News Now vi...</td>\n",
       "      <td>Cameras Near Camp Fire Did Record in Early Sta...</td>\n",
       "      <td>Google News</td>\n",
       "    </tr>\n",
       "    <tr>\n",
       "      <th>431</th>\n",
       "      <td>Looking for news you can trust?\\n\\nSubscribe t...</td>\n",
       "      <td>For Camp Fire Survivors, PG&amp;E’s Bankruptcy Mak...</td>\n",
       "      <td>Google News</td>\n",
       "    </tr>\n",
       "    <tr>\n",
       "      <th>527</th>\n",
       "      <td>The 2017 wildfire season in California was amo...</td>\n",
       "      <td>California wildfires: 2018 among worst fire se...</td>\n",
       "      <td>Google News</td>\n",
       "    </tr>\n",
       "    <tr>\n",
       "      <th>85</th>\n",
       "      <td>- A Butte County man who saved more than 100 l...</td>\n",
       "      <td>Documentary on Camp Fire debuts in San Rafael</td>\n",
       "      <td>Google News</td>\n",
       "    </tr>\n",
       "    <tr>\n",
       "      <th>264</th>\n",
       "      <td>This Feb. 18, 2019, photo provided by Ben Lepe...</td>\n",
       "      <td>Dog reunited with family 101 days after Califo...</td>\n",
       "      <td>Google News</td>\n",
       "    </tr>\n",
       "    <tr>\n",
       "      <th>102</th>\n",
       "      <td>SAN FRANCISCO (KGO) -- State regulators are no...</td>\n",
       "      <td>Bay Area lawmaker suggests breaking up PG&amp;E af...</td>\n",
       "      <td>Google News</td>\n",
       "    </tr>\n",
       "    <tr>\n",
       "      <th>190</th>\n",
       "      <td>On Saturday, the Butte County Sheriff’s Office...</td>\n",
       "      <td>Evacuations finally lifted in California’s wor...</td>\n",
       "      <td>Google News</td>\n",
       "    </tr>\n",
       "    <tr>\n",
       "      <th>207</th>\n",
       "      <td>Nine buildings on the campus burned as well as...</td>\n",
       "      <td>Feather River Hospital evacuated 280 patients ...</td>\n",
       "      <td>Google News</td>\n",
       "    </tr>\n",
       "    <tr>\n",
       "      <th>537</th>\n",
       "      <td>California’s cleanup of the Camp Fire, the lar...</td>\n",
       "      <td>CA, FEMA launch cleanup after Camp Fire as Pel...</td>\n",
       "      <td>Google News</td>\n",
       "    </tr>\n",
       "    <tr>\n",
       "      <th>347</th>\n",
       "      <td>The first phase of the cleanup following Calif...</td>\n",
       "      <td>How contractors get cleanup work in Camp Fire ...</td>\n",
       "      <td>Google News</td>\n",
       "    </tr>\n",
       "    <tr>\n",
       "      <th>71</th>\n",
       "      <td>CHICO — The Chico City Council voted 4-3 on Tu...</td>\n",
       "      <td>Chico City Council approves makeup of cannabis...</td>\n",
       "      <td>Google News</td>\n",
       "    </tr>\n",
       "    <tr>\n",
       "      <th>467</th>\n",
       "      <td>PARADISE, Calif. — One huge fire was caused by...</td>\n",
       "      <td>What Started the California Fires? Experts Tra...</td>\n",
       "      <td>Google News</td>\n",
       "    </tr>\n",
       "    <tr>\n",
       "      <th>384</th>\n",
       "      <td>Wildfires often become known by a name. How th...</td>\n",
       "      <td>Why is it called the Camp Fire? Here's how wil...</td>\n",
       "      <td>Google News</td>\n",
       "    </tr>\n",
       "    <tr>\n",
       "      <th>250</th>\n",
       "      <td>Federal agencies are still looking for a place...</td>\n",
       "      <td>Oroville Speaks on Camp Fire Debris Site</td>\n",
       "      <td>Google News</td>\n",
       "    </tr>\n",
       "    <tr>\n",
       "      <th>...</th>\n",
       "      <th>...</th>\n",
       "      <td>...</td>\n",
       "      <td>...</td>\n",
       "      <td>...</td>\n",
       "    </tr>\n",
       "    <tr>\n",
       "      <th rowspan=\"30\" valign=\"top\">2</th>\n",
       "      <th>1800</th>\n",
       "      <td>La Pacific Gas &amp;amp; Electric ammette che e' p...</td>\n",
       "      <td>Tweet 1800</td>\n",
       "      <td>Twitter</td>\n",
       "    </tr>\n",
       "    <tr>\n",
       "      <th>301</th>\n",
       "      <td>At PayneMitchell, we have handled many cases a...</td>\n",
       "      <td>Tweet 301</td>\n",
       "      <td>Twitter</td>\n",
       "    </tr>\n",
       "    <tr>\n",
       "      <th>4292</th>\n",
       "      <td>The Camp Fire devastated the town of Paradise,...</td>\n",
       "      <td>Tweet 4292</td>\n",
       "      <td>Twitter</td>\n",
       "    </tr>\n",
       "    <tr>\n",
       "      <th>870</th>\n",
       "      <td>PG&amp;amp;E Says Its Equipment Probably Caused Ca...</td>\n",
       "      <td>Tweet 870</td>\n",
       "      <td>Twitter</td>\n",
       "    </tr>\n",
       "    <tr>\n",
       "      <th>272</th>\n",
       "      <td>Why ‘the Worst of Both Worlds’ Is in the Forec...</td>\n",
       "      <td>Tweet 272</td>\n",
       "      <td>Twitter</td>\n",
       "    </tr>\n",
       "    <tr>\n",
       "      <th>4469</th>\n",
       "      <td>More than 100 Camp Fire victims are being boot...</td>\n",
       "      <td>Tweet 4469</td>\n",
       "      <td>Twitter</td>\n",
       "    </tr>\n",
       "    <tr>\n",
       "      <th>4380</th>\n",
       "      <td>California’s largest utility faces potential r...</td>\n",
       "      <td>Tweet 4380</td>\n",
       "      <td>Twitter</td>\n",
       "    </tr>\n",
       "    <tr>\n",
       "      <th>292</th>\n",
       "      <td>The utility company said “it is probable that ...</td>\n",
       "      <td>Tweet 292</td>\n",
       "      <td>Twitter</td>\n",
       "    </tr>\n",
       "    <tr>\n",
       "      <th>3425</th>\n",
       "      <td>Explore a continent by train, camp out in a fi...</td>\n",
       "      <td>Tweet 3425</td>\n",
       "      <td>Twitter</td>\n",
       "    </tr>\n",
       "    <tr>\n",
       "      <th>1648</th>\n",
       "      <td>RT @GeorgeHatcher: PG&amp;amp;E records $10.5 bill...</td>\n",
       "      <td>Tweet 1648</td>\n",
       "      <td>Twitter</td>\n",
       "    </tr>\n",
       "    <tr>\n",
       "      <th>486</th>\n",
       "      <td>RT @GStuedler: PG&amp;amp;E Says For The First Tim...</td>\n",
       "      <td>Tweet 486</td>\n",
       "      <td>Twitter</td>\n",
       "    </tr>\n",
       "    <tr>\n",
       "      <th>2196</th>\n",
       "      <td>California wildfires are burning bigger and le...</td>\n",
       "      <td>Tweet 2196</td>\n",
       "      <td>Twitter</td>\n",
       "    </tr>\n",
       "    <tr>\n",
       "      <th>1083</th>\n",
       "      <td>Pacific Gas and Electric says it \"believes it ...</td>\n",
       "      <td>Tweet 1083</td>\n",
       "      <td>Twitter</td>\n",
       "    </tr>\n",
       "    <tr>\n",
       "      <th>3203</th>\n",
       "      <td>California Gov. Gavin Newsom toured the area b...</td>\n",
       "      <td>Tweet 3203</td>\n",
       "      <td>Twitter</td>\n",
       "    </tr>\n",
       "    <tr>\n",
       "      <th>3028</th>\n",
       "      <td>Dog reunited with family 101 days after Camp F...</td>\n",
       "      <td>Tweet 3028</td>\n",
       "      <td>Twitter</td>\n",
       "    </tr>\n",
       "    <tr>\n",
       "      <th>51</th>\n",
       "      <td>@GRECOBroker @GavinNewsom @MSNBC California se...</td>\n",
       "      <td>Tweet 51</td>\n",
       "      <td>Twitter</td>\n",
       "    </tr>\n",
       "    <tr>\n",
       "      <th>481</th>\n",
       "      <td>PG&amp;amp;E: Company equipment 'probable' cause o...</td>\n",
       "      <td>Tweet 481</td>\n",
       "      <td>Twitter</td>\n",
       "    </tr>\n",
       "    <tr>\n",
       "      <th>2606</th>\n",
       "      <td>This is Kingston, a very good boy who disappea...</td>\n",
       "      <td>Tweet 2606</td>\n",
       "      <td>Twitter</td>\n",
       "    </tr>\n",
       "    <tr>\n",
       "      <th>3298</th>\n",
       "      <td>Months after a massive wildfire destroyed the ...</td>\n",
       "      <td>Tweet 3298</td>\n",
       "      <td>Twitter</td>\n",
       "    </tr>\n",
       "    <tr>\n",
       "      <th>874</th>\n",
       "      <td>PG&amp;amp;E Says Its Equipment Probably Caused Ca...</td>\n",
       "      <td>Tweet 874</td>\n",
       "      <td>Twitter</td>\n",
       "    </tr>\n",
       "    <tr>\n",
       "      <th>2157</th>\n",
       "      <td>RT @eldersclimate: California has just emerged...</td>\n",
       "      <td>Tweet 2157</td>\n",
       "      <td>Twitter</td>\n",
       "    </tr>\n",
       "    <tr>\n",
       "      <th>705</th>\n",
       "      <td>PG&amp;amp;E Says It Probably Caused the Fire That...</td>\n",
       "      <td>Tweet 705</td>\n",
       "      <td>Twitter</td>\n",
       "    </tr>\n",
       "    <tr>\n",
       "      <th>347</th>\n",
       "      <td>PG&amp;amp;E says equipment probably caused Camp F...</td>\n",
       "      <td>Tweet 347</td>\n",
       "      <td>Twitter</td>\n",
       "    </tr>\n",
       "    <tr>\n",
       "      <th>173</th>\n",
       "      <td>NEW PODCAST: Fire &amp;amp; Ice explores extreme w...</td>\n",
       "      <td>Tweet 173</td>\n",
       "      <td>Twitter</td>\n",
       "    </tr>\n",
       "    <tr>\n",
       "      <th>4417</th>\n",
       "      <td>YouTuber identifies 27 anomalies in the Califo...</td>\n",
       "      <td>Tweet 4417</td>\n",
       "      <td>Twitter</td>\n",
       "    </tr>\n",
       "    <tr>\n",
       "      <th>2609</th>\n",
       "      <td>RT @JimPolk: Dog reunited 101 days after Calif...</td>\n",
       "      <td>Tweet 2609</td>\n",
       "      <td>Twitter</td>\n",
       "    </tr>\n",
       "    <tr>\n",
       "      <th>1145</th>\n",
       "      <td>PG&amp;amp;E admits its equipment ‘probably’ cause...</td>\n",
       "      <td>Tweet 1145</td>\n",
       "      <td>Twitter</td>\n",
       "    </tr>\n",
       "    <tr>\n",
       "      <th>877</th>\n",
       "      <td>PG&amp;amp;E Says Its Equipment Probably Caused Ca...</td>\n",
       "      <td>Tweet 877</td>\n",
       "      <td>Twitter</td>\n",
       "    </tr>\n",
       "    <tr>\n",
       "      <th>3188</th>\n",
       "      <td>RT @ariauber: Breweries are reaching the end o...</td>\n",
       "      <td>Tweet 3188</td>\n",
       "      <td>Twitter</td>\n",
       "    </tr>\n",
       "    <tr>\n",
       "      <th>2067</th>\n",
       "      <td>A power line at the center of speculation over...</td>\n",
       "      <td>Tweet 2067</td>\n",
       "      <td>Twitter</td>\n",
       "    </tr>\n",
       "  </tbody>\n",
       "</table>\n",
       "<p>90 rows × 3 columns</p>\n",
       "</div>"
      ],
      "text/plain": [
       "                                                     text  \\\n",
       "0 507   Buy Photo The Northern California town of Para...   \n",
       "  252   BUTTE COUNTY, Calif. - The Office of Emergency...   \n",
       "  388   Contractors fired after poking fun at Camp Fir...   \n",
       "  319   Hundreds of Northern California wildfire victi...   \n",
       "  609   CONCOW, Butte County — When Scott realized tha...   \n",
       "  655   \\n\\nOct. 3, 1933: Injured from the Griffith Pa...   \n",
       "  225   1. Was 'Bird Box' filmed in Sacramento? Well, ...   \n",
       "  485   As California's devastating wildfires burn thr...   \n",
       "  106   Governor Newsom budgeting an EXTRA $305 millio...   \n",
       "  606   PULGA, Butte County — A woman who lives near t...   \n",
       "  579   Gov. Gavin Newsom should immediately allow the...   \n",
       "  419   PULGA — Cal Fire investigators removed a cross...   \n",
       "  127   The City of Maple Ridge is seeking a new injun...   \n",
       "  620   DJI works with 16 first response agencies for ...   \n",
       "  638   CLOSE Evacuation orders could be lifted in the...   \n",
       "  318   To use this map from Cal Fire:\\n\\nCheck the bo...   \n",
       "  236   BUTTE COUNTY, Calif. - Some Action News Now vi...   \n",
       "  431   Looking for news you can trust?\\n\\nSubscribe t...   \n",
       "  527   The 2017 wildfire season in California was amo...   \n",
       "  85    - A Butte County man who saved more than 100 l...   \n",
       "  264   This Feb. 18, 2019, photo provided by Ben Lepe...   \n",
       "  102   SAN FRANCISCO (KGO) -- State regulators are no...   \n",
       "  190   On Saturday, the Butte County Sheriff’s Office...   \n",
       "  207   Nine buildings on the campus burned as well as...   \n",
       "  537   California’s cleanup of the Camp Fire, the lar...   \n",
       "  347   The first phase of the cleanup following Calif...   \n",
       "  71    CHICO — The Chico City Council voted 4-3 on Tu...   \n",
       "  467   PARADISE, Calif. — One huge fire was caused by...   \n",
       "  384   Wildfires often become known by a name. How th...   \n",
       "  250   Federal agencies are still looking for a place...   \n",
       "...                                                   ...   \n",
       "2 1800  La Pacific Gas &amp; Electric ammette che e' p...   \n",
       "  301   At PayneMitchell, we have handled many cases a...   \n",
       "  4292  The Camp Fire devastated the town of Paradise,...   \n",
       "  870   PG&amp;E Says Its Equipment Probably Caused Ca...   \n",
       "  272   Why ‘the Worst of Both Worlds’ Is in the Forec...   \n",
       "  4469  More than 100 Camp Fire victims are being boot...   \n",
       "  4380  California’s largest utility faces potential r...   \n",
       "  292   The utility company said “it is probable that ...   \n",
       "  3425  Explore a continent by train, camp out in a fi...   \n",
       "  1648  RT @GeorgeHatcher: PG&amp;E records $10.5 bill...   \n",
       "  486   RT @GStuedler: PG&amp;E Says For The First Tim...   \n",
       "  2196  California wildfires are burning bigger and le...   \n",
       "  1083  Pacific Gas and Electric says it \"believes it ...   \n",
       "  3203  California Gov. Gavin Newsom toured the area b...   \n",
       "  3028  Dog reunited with family 101 days after Camp F...   \n",
       "  51    @GRECOBroker @GavinNewsom @MSNBC California se...   \n",
       "  481   PG&amp;E: Company equipment 'probable' cause o...   \n",
       "  2606  This is Kingston, a very good boy who disappea...   \n",
       "  3298  Months after a massive wildfire destroyed the ...   \n",
       "  874   PG&amp;E Says Its Equipment Probably Caused Ca...   \n",
       "  2157  RT @eldersclimate: California has just emerged...   \n",
       "  705   PG&amp;E Says It Probably Caused the Fire That...   \n",
       "  347   PG&amp;E says equipment probably caused Camp F...   \n",
       "  173   NEW PODCAST: Fire &amp; Ice explores extreme w...   \n",
       "  4417  YouTuber identifies 27 anomalies in the Califo...   \n",
       "  2609  RT @JimPolk: Dog reunited 101 days after Calif...   \n",
       "  1145  PG&amp;E admits its equipment ‘probably’ cause...   \n",
       "  877   PG&amp;E Says Its Equipment Probably Caused Ca...   \n",
       "  3188  RT @ariauber: Breweries are reaching the end o...   \n",
       "  2067  A power line at the center of speculation over...   \n",
       "\n",
       "                                                    title       source  \n",
       "0 507   $3 billion or more: Heavy cost of cleanup for ...  Google News  \n",
       "  252   Phase 1 of Camp Fire Debris Cleanup 86 Percent...  Google News  \n",
       "  388   Contractors fired after poking fun at Camp Fir...  Google News  \n",
       "  319   California Wildfire Victims Living in RVs Orde...  Google News  \n",
       "  609   Trapped by Camp Fire, more than a dozen people...  Google News  \n",
       "  655   This was the deadliest wildfire in California ...  Google News  \n",
       "  225   Need to know: PG&E details inspection history ...  Google News  \n",
       "  485   Map shows haze in Philly came from California ...  Google News  \n",
       "  106   California Gov. Newsom announces new executive...  Google News  \n",
       "  606   Homeowner’s claim on PG&E work raises question...  Google News  \n",
       "  579   California wildfires: Report names priority pr...  Google News  \n",
       "  419   Why did fire investigators remove piece of PG&...  Google News  \n",
       "  127   Fire at Maple Ridge homeless camp under invest...  Google News  \n",
       "  620     Mapping “Camp Fire” with drones, lessons learnt  Google News  \n",
       "  638      Number of Camp Fire missing people drops to 25  Google News  \n",
       "  318   Cal Fire Map: Search by address to see damage ...  Google News  \n",
       "  236   Cameras Near Camp Fire Did Record in Early Sta...  Google News  \n",
       "  431   For Camp Fire Survivors, PG&E’s Bankruptcy Mak...  Google News  \n",
       "  527   California wildfires: 2018 among worst fire se...  Google News  \n",
       "  85        Documentary on Camp Fire debuts in San Rafael  Google News  \n",
       "  264   Dog reunited with family 101 days after Califo...  Google News  \n",
       "  102   Bay Area lawmaker suggests breaking up PG&E af...  Google News  \n",
       "  190   Evacuations finally lifted in California’s wor...  Google News  \n",
       "  207   Feather River Hospital evacuated 280 patients ...  Google News  \n",
       "  537   CA, FEMA launch cleanup after Camp Fire as Pel...  Google News  \n",
       "  347   How contractors get cleanup work in Camp Fire ...  Google News  \n",
       "  71    Chico City Council approves makeup of cannabis...  Google News  \n",
       "  467   What Started the California Fires? Experts Tra...  Google News  \n",
       "  384   Why is it called the Camp Fire? Here's how wil...  Google News  \n",
       "  250            Oroville Speaks on Camp Fire Debris Site  Google News  \n",
       "...                                                   ...          ...  \n",
       "2 1800                                         Tweet 1800      Twitter  \n",
       "  301                                           Tweet 301      Twitter  \n",
       "  4292                                         Tweet 4292      Twitter  \n",
       "  870                                           Tweet 870      Twitter  \n",
       "  272                                           Tweet 272      Twitter  \n",
       "  4469                                         Tweet 4469      Twitter  \n",
       "  4380                                         Tweet 4380      Twitter  \n",
       "  292                                           Tweet 292      Twitter  \n",
       "  3425                                         Tweet 3425      Twitter  \n",
       "  1648                                         Tweet 1648      Twitter  \n",
       "  486                                           Tweet 486      Twitter  \n",
       "  2196                                         Tweet 2196      Twitter  \n",
       "  1083                                         Tweet 1083      Twitter  \n",
       "  3203                                         Tweet 3203      Twitter  \n",
       "  3028                                         Tweet 3028      Twitter  \n",
       "  51                                             Tweet 51      Twitter  \n",
       "  481                                           Tweet 481      Twitter  \n",
       "  2606                                         Tweet 2606      Twitter  \n",
       "  3298                                         Tweet 3298      Twitter  \n",
       "  874                                           Tweet 874      Twitter  \n",
       "  2157                                         Tweet 2157      Twitter  \n",
       "  705                                           Tweet 705      Twitter  \n",
       "  347                                           Tweet 347      Twitter  \n",
       "  173                                           Tweet 173      Twitter  \n",
       "  4417                                         Tweet 4417      Twitter  \n",
       "  2609                                         Tweet 2609      Twitter  \n",
       "  1145                                         Tweet 1145      Twitter  \n",
       "  877                                           Tweet 877      Twitter  \n",
       "  3188                                         Tweet 3188      Twitter  \n",
       "  2067                                         Tweet 2067      Twitter  \n",
       "\n",
       "[90 rows x 3 columns]"
      ]
     },
     "execution_count": 65,
     "metadata": {},
     "output_type": "execute_result"
    }
   ],
   "source": [
    "size = 30    # sample size\n",
    "replace = False  # with replacement\n",
    "fn = lambda obj: obj.loc[np.random.choice(obj.index, size, replace),:]\n",
    "samp_all = all_u.groupby('source', as_index=False).apply(fn)\n",
    "samp_all"
   ]
  },
  {
   "cell_type": "code",
   "execution_count": 71,
   "metadata": {},
   "outputs": [],
   "source": [
    "# Generate the tfidf matrix for all google articles combined.\n",
    "text_list = samp_all['text'].tolist()\n",
    "vec = TfidfVectorizer(tokenizer = tokenize_and_lem, \n",
    "                      stop_words = \"english\", \n",
    "                      sublinear_tf = True)\n",
    "tfidf = vec.fit_transform(text_list)"
   ]
  },
  {
   "cell_type": "code",
   "execution_count": 72,
   "metadata": {},
   "outputs": [
    {
     "data": {
      "text/plain": [
       "<90x4136 sparse matrix of type '<class 'numpy.float64'>'\n",
       "\twith 11084 stored elements in Compressed Sparse Row format>"
      ]
     },
     "execution_count": 72,
     "metadata": {},
     "output_type": "execute_result"
    }
   ],
   "source": [
    "tfidf"
   ]
  },
  {
   "cell_type": "code",
   "execution_count": 73,
   "metadata": {},
   "outputs": [
    {
     "data": {
      "text/plain": [
       "[\"'bird\",\n",
       " \"'if\",\n",
       " \"'ll\",\n",
       " \"'m\",\n",
       " \"'probable\",\n",
       " \"'re\",\n",
       " \"'s\",\n",
       " \"'ve\",\n",
       " '-plus',\n",
       " '//t.co/221itbgmus']"
      ]
     },
     "execution_count": 73,
     "metadata": {},
     "output_type": "execute_result"
    }
   ],
   "source": [
    "terms = vec.get_feature_names()\n",
    "terms[:10]"
   ]
  },
  {
   "cell_type": "code",
   "execution_count": 74,
   "metadata": {},
   "outputs": [],
   "source": [
    "from sklearn.metrics.pairwise import cosine_similarity\n",
    "\n",
    "# Calculate the cosine distance.\n",
    "dist = 1 - cosine_similarity(tfidf)"
   ]
  },
  {
   "cell_type": "code",
   "execution_count": 75,
   "metadata": {},
   "outputs": [
    {
     "data": {
      "image/png": "[encoded data removed]",
      "text/plain": [
       "<Figure size 1080x1440 with 1 Axes>"
      ]
     },
     "metadata": {
      "needs_background": "light"
     },
     "output_type": "display_data"
    }
   ],
   "source": [
    "from scipy.cluster.hierarchy import ward, dendrogram\n",
    "\n",
    "\n",
    "titles = samp_all[\"title\"]\n",
    "\n",
    "linkage_matrix = ward(dist) #define the linkage_matrix using ward clustering pre-computed distances\n",
    "\n",
    "fig, ax = plt.subplots(figsize=(15, 20)) # set size\n",
    "ax = dendrogram(linkage_matrix, orientation=\"right\", labels=titles);\n",
    "\n",
    "plt.tick_params(\\\n",
    "    axis= 'x',          # changes apply to the x-axis\n",
    "    which='both',      # both major and minor ticks are affected\n",
    "    bottom='off',      # ticks along the bottom edge are off\n",
    "    top='off',         # ticks along the top edge are off\n",
    "    labelbottom='off')\n",
    "\n",
    "plt.tight_layout() #show plot with tight layout"
   ]
  },
  {
   "cell_type": "code",
   "execution_count": 47,
   "metadata": {},
   "outputs": [
    {
     "data": {
      "text/plain": [
       "5486"
      ]
     },
     "execution_count": 47,
     "metadata": {},
     "output_type": "execute_result"
    }
   ],
   "source": [
    "all_df[\"title\"].nunique()"
   ]
  },
  {
   "cell_type": "code",
   "execution_count": 48,
   "metadata": {},
   "outputs": [
    {
     "data": {
      "text/plain": [
       "(5518, 3)"
      ]
     },
     "execution_count": 48,
     "metadata": {},
     "output_type": "execute_result"
    }
   ],
   "source": [
    "all_df.shape"
   ]
  },
  {
   "cell_type": "code",
   "execution_count": 50,
   "metadata": {},
   "outputs": [
    {
     "data": {
      "text/plain": [
       "2566"
      ]
     },
     "execution_count": 50,
     "metadata": {},
     "output_type": "execute_result"
    }
   ],
   "source": [
    "all_df[\"text\"].nunique()"
   ]
  },
  {
   "cell_type": "code",
   "execution_count": 76,
   "metadata": {
    "scrolled": true
   },
   "outputs": [],
   "source": [
    "all_u = all_df.drop_duplicates(subset=['text'])\n",
    "all_u = all_u.drop_duplicates(subset=['title'])\n",
    "\n",
    "all_u.to_pickle(\"all_nodup.txt\")\n",
    "#all_nodup = pd.read_pickle(\"all_nodup.txt\")"
   ]
  },
  {
   "cell_type": "code",
   "execution_count": null,
   "metadata": {},
   "outputs": [],
   "source": []
  }
 ],
 "metadata": {
  "kernelspec": {
   "display_name": "Python 3",
   "language": "python",
   "name": "python3"
  },
  "language_info": {
   "codemirror_mode": {
    "name": "ipython",
    "version": 3
   },
   "file_extension": ".py",
   "mimetype": "text/x-python",
   "name": "python",
   "nbconvert_exporter": "python",
   "pygments_lexer": "ipython3",
   "version": "3.7.1"
  }
 },
 "nbformat": 4,
 "nbformat_minor": 2
}
