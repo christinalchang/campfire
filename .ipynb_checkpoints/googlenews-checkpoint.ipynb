{
 "cells": [
  {
   "cell_type": "code",
   "execution_count": 34,
   "metadata": {},
   "outputs": [],
   "source": [
    "# Load packages\n",
    "import pandas as pd\n",
    "import numpy as np\n",
    "import time\n",
    "import pytz\n",
    "import matplotlib.pyplot as plt\n",
    "\n",
    "import lxml.html as lx\n",
    "import requests\n",
    "import requests_cache\n",
    "\n",
    "import newspaper\n",
    "from newspaper import Article\n",
    "from newspaper import news_pool\n",
    "\n",
    "import nltk\n",
    "from nltk.corpus import wordnet\n",
    "\n",
    "requests_cache.install_cache(\"mycache\")\n",
    "plt.rcParams[\"figure.figsize\"] = [10, 8]"
   ]
  },
  {
   "cell_type": "markdown",
   "metadata": {},
   "source": [
    "Useful links for newspaper3k:\n",
    "https://opendatascience.com/using-the-newspaper-library-to-scrape-news-articles/\n",
    "https://www.geeksforgeeks.org/newspaper-article-scraping-curation-python/"
   ]
  },
  {
   "cell_type": "code",
   "execution_count": 3,
   "metadata": {},
   "outputs": [],
   "source": [
    "# No need to use this.\n",
    "# Read the api key. I got this function from Nick's lecture notes from 1/31.\n",
    "def read_key(keyfile):\n",
    "    with open(keyfile) as f:\n",
    "        return f.readline().strip(\"\\n\")\n",
    "    \n",
    "key = read_key(\"../keys/googlenews.txt\")"
   ]
  },
  {
   "cell_type": "code",
   "execution_count": 58,
   "metadata": {},
   "outputs": [
    {
     "data": {
      "text/plain": [
       "{'status': 'ok',\n",
       " 'totalResults': 2306,\n",
       " 'articles': [{'source': {'id': 'the-new-york-times',\n",
       "    'name': 'The New York Times'},\n",
       "   'author': 'JILL COWAN',\n",
       "   'title': 'California Today: California Today: Why ‘the Worst of Both Worlds’ Is in the Forecast',\n",
       "   'description': 'Friday: Californians will most likely face more extreme weather; Pacific Gas & Electric’s role in the Camp Fire; San Diego treats',\n",
       "   'url': 'https://www.nytimes.com/2019/03/01/us/california-today-extreme-weather-forecast.html',\n",
       "   'urlToImage': 'https://static01.nyt.com/images/2019/03/01/us/01campfirecatoday/merlin_151063710_b332153e-e314-410c-8eef-5c41339f26bd-facebookJumbo.jpg',\n",
       "   'publishedAt': '2019-03-01T14:09:58Z',\n",
       "   'content': 'Im heading to San Diego this weekend, which feels like a real stroke of luck, in light of this weeks recommendation from Tejal Rao, The Timess California restaurant critic. But even if youre far away, take this as an invitation to treat yourself to your favor… [+1197 chars]'},\n",
       "  {'source': {'id': 'the-new-york-times', 'name': 'The New York Times'},\n",
       "   'author': 'PETER EAVIS',\n",
       "   'title': 'PG&E Says It Probably Caused the Fire That Destroyed Paradise, Calif.',\n",
       "   'description': 'The remnants of mobile homes in Paradise, Calif., after the Camp Fire. Pacific Gas & Electric said on Thursday that its equipment probably caused the fire.',\n",
       "   'url': 'https://www.nytimes.com/2019/02/28/business/energy-environment/pge-camp-fire.html',\n",
       "   'urlToImage': 'https://static01.nyt.com/images/2019/03/01/business/01Utility/01Utility-facebookJumbo.jpg',\n",
       "   'publishedAt': '2019-02-28T16:37:30Z',\n",
       "   'content': 'On Thursday, the company said it was stepping up equipment inspections in areas that regulators have identified as having a high fire risk. We recognize that more must be done to adapt to and address the increasing threat of wildfires and extreme weather in o… [+1216 chars]'},\n",
       "  {'source': {'id': 'the-new-york-times', 'name': 'The New York Times'},\n",
       "   'author': 'JILL COWAN',\n",
       "   'title': 'California Today: California Today: In Paradise, an Artist Draws Out ‘Beauty Among the Ashes’',\n",
       "   'description': 'Thursday: Murals are part of a healing process after the Camp Fire; flooding in the North Bay; and the Oakland teachers’ strike continues',\n",
       "   'url': 'https://www.nytimes.com/2019/02/28/us/california-today-paradise-art-murals.html',\n",
       "   'urlToImage': 'https://static01.nyt.com/images/2019/02/28/arts/28Californiatoday-art3/fileupload-1551350962762-facebookJumbo.jpg',\n",
       "   'publishedAt': '2019-02-28T13:53:07Z',\n",
       "   'content': 'I recently talked to Shane Grammer, an artist who grew up in nearby Chico and has worked on installations at Disneyland, Universal Studios and Legoland. Now based in Los Angeles, he said he started to see images of the destruction posted by people he knew.\\r\\nT… [+790 chars]'},\n",
       "  {'source': {'id': None, 'name': 'Citynews1130.com'},\n",
       "   'author': None,\n",
       "   'title': 'Evacuation order in effect for folks at tent city in Maple Ridge - CityNews Vancouver',\n",
       "   'description': 'Evacuation order in effect for folks at tent city in Maple Ridge CityNews Vancouver More fires at controversial homeless camp in Maple Ridge Global News Three fires in three days at Maple Ridge homeless camp CityNews Vancouver Fire at Maple Ridge homeless cam…',\n",
       "   'url': 'https://www.citynews1130.com/2019/03/01/security-maple-ridge-petition/',\n",
       "   'urlToImage': 'https://www.citynews1130.com/wp-content/blogs.dir/sites/9/2019/03/01/fire.jpg',\n",
       "   'publishedAt': '2019-03-02T03:06:07Z',\n",
       "   'content': 'MAPLE RIDGE (NEWS 1130) —\\xa0The folks living at a tent city in Maple Ridge have been ordered evacuated.\\r\\nAbout 50 people live in the encampment, and the order says there is imminent danger to lives, because of fire hazards.\\r\\nThree fires have broken out at the s… [+2281 chars]'},\n",
       "  {'source': {'id': None, 'name': 'Globalnews.ca'},\n",
       "   'author': 'https://www.facebook.com/cknw980',\n",
       "   'title': 'More fires at controversial homeless camp in Maple Ridge - Global News',\n",
       "   'description': 'More fires at controversial homeless camp in Maple Ridge Global News Maple Ridge cannot just freeze out their homelessness dilemma The Globe and Mail Evacuation order issued for Maple Ridge homeless camp that saw 3 fires in one week Global News Evacuation ord…',\n",
       "   'url': 'https://globalnews.ca/news/5011718/anitas-place-maple-ridge/',\n",
       "   'urlToImage': 'https://shawglobalnews.files.wordpress.com/2019/03/2019-03-01t16-01-07.459z-135.561_848x480_1450523715843.jpg?quality=70&strip=all&w=720&h=379&crop=1',\n",
       "   'publishedAt': '2019-03-01T12:49:00Z',\n",
       "   'content': 'Yet another fire has broken out at the Anita Place homeless camp in Maple Ridge early Friday, the latest in a string of incidents that have residents and local businesses on edge.\\r\\nFire crews responded to what witnesses described as a massive blaze on 223 Str… [+2049 chars]'},\n",
       "  {'source': {'id': None, 'name': 'Npr.org'},\n",
       "   'author': 'Merrit Kennedy',\n",
       "   'title': 'Family Reunites With Dog Who Went Missing During The Deadly Camp Fire',\n",
       "   'description': 'The Akita named Kingston has been missing since the Camp Fire started. \"When I found out, [it] just about brought me to tears,\" the dog\\'s owner Gabriel Ballejos told a local television station.',\n",
       "   'url': 'https://www.npr.org/2019/02/21/696600114/family-reunites-with-dog-who-went-missing-during-the-deadly-camp-fire',\n",
       "   'urlToImage': 'https://media.npr.org/assets/img/2019/02/21/ap_19050809735820_wide-a58a4e5ab9ee81a9abdefc89ad57071255630c9e.jpg?s=1400',\n",
       "   'publishedAt': '2019-02-21T21:35:35Z',\n",
       "   'content': \"Maleah Ballejos reunited with her dog Kingston, who was missing for 101 days in the wake of the Camp Fire in Paradise, Calif.\\r\\nBen Lepe/AP\\r\\nAfter the deadliest wildfire in California's history last year, one family that fled has received a little joy. They we… [+1893 chars]\"},\n",
       "  {'source': {'id': 'time', 'name': 'Time'},\n",
       "   'author': 'Sudhin Thanawala and Cathy Bussewitz / AP',\n",
       "   'title': 'PG&E Says It Is ‘Probable’ Their Equipment Started California’s Deadliest Wildfire',\n",
       "   'description': 'Pacific Gas & Electric Corp. said it is \"probable\" one of its transmission lines ignited the deadly Camp Fire in California last year',\n",
       "   'url': 'http://time.com/5541645/pge-probable-cause-camp-fire-paradise-california/',\n",
       "   'urlToImage': 'https://timedotcom.files.wordpress.com/2019/02/gettyimages-1129061425.jpg?quality=85',\n",
       "   'publishedAt': '2019-03-01T02:52:13Z',\n",
       "   'content': '(SAN FRANCISCO) — Pacific Gas &amp; Electric Corp. inched closer to taking responsibility for the deadliest U.S. wildfire in a century, saying Thursday it is “probable” that one of its transmission lines sparked the blaze last year that killed 86 people and d… [+3158 chars]'},\n",
       "  {'source': {'id': 'the-guardian-au', 'name': 'The Guardian (AU)'},\n",
       "   'author': 'Ashley Boucher in Los Angeles',\n",
       "   'title': 'Burning Man finally fights Instagram culture and bans high-end camp',\n",
       "   'description': 'In a blog post, CEO Marian Goodell vowed to return the event to its roots and outlined ‘negative cultural trends’ Organizers behind the Burning Man festival – the annual counterculture celebration in Nevada’s Black Rock Desert – have finally acknowledged long…',\n",
       "   'url': 'https://www.theguardian.com/us-news/2019/feb/14/burning-man-finally-fights-instagram-culture-and-bans-high-end-camp',\n",
       "   'urlToImage': 'https://i.guim.co.uk/img/media/ad676576349e688fe8832ec86a2917f3f0da5b70/53_0_3394_2037/master/3394.jpg?width=1200&height=630&quality=85&auto=format&fit=crop&overlay-align=bottom%2Cleft&overlay-width=100p&overlay-base64=L2ltZy9zdGF0aWMvb3ZlcmxheXMvdGctZGVmYXVsdC5wbmc&s=38ea6099fdfade5efcc8d620d9a97b7c',\n",
       "   'publishedAt': '2019-02-14T23:39:09Z',\n",
       "   'content': 'Organizers behind the Burning Man festival the annual counterculture celebration in Nevadas Black Rock Desert have finally acknowledged long-time Burners complaint that the event has evolved too far from its roots.\\r\\nIn a lengthy blog post, CEO Marian Goodell … [+2658 chars]'},\n",
       "  {'source': {'id': 'business-insider', 'name': 'Business Insider'},\n",
       "   'author': 'Sophia Mitrokostas',\n",
       "   'title': 'The 10 deadliest wildfires in US history',\n",
       "   'description': \"Throughout US history, wildfires have burned through populated areas, leaving destruction, homelessness, and casualties in their wake. Death tolls from wildfires have been documented as far back as 1871. California's Camp Fire was the latest deadly travesty, …\",\n",
       "   'url': 'https://www.businessinsider.com/the-deadliest-wildfires-in-us-history-2019-2',\n",
       "   'urlToImage': 'https://amp.businessinsider.com/images/5c5b16d070a61e03fe4676f2-1920-960.jpg',\n",
       "   'publishedAt': '2019-03-01T16:37:51Z',\n",
       "   'content': 'On October 19, 1991, a fire broke out in the hills of Oakland, California. The Oakland Hills Fire, as it came to be known, started as a wind-driven brush fire, but exploded into a firestorm that roared through upscale residential neighborhoods, engulfing thou… [+235 chars]'},\n",
       "  {'source': {'id': 'the-guardian-au', 'name': 'The Guardian (AU)'},\n",
       "   'author': 'Associated Press',\n",
       "   'title': 'PG&E says its equipment may have started Camp fire in California',\n",
       "   'description': 'Fire killed 86 people and destroyed an entire town last year Pacific Gas & Electric says its equipment may have ignited the 2018 Camp Fire, which killed 86 people and destroyed an entire town in Northern California. The embattled utility said Thursday it’s ta…',\n",
       "   'url': 'https://www.theguardian.com/us-news/2019/feb/28/camp-fire-paradise-california-pacific-gas-electric-equipment',\n",
       "   'urlToImage': 'https://i.guim.co.uk/img/media/3d05cad295a8d5876c61dd56d6bdcec70b734182/33_0_3565_2140/master/3565.jpg?width=1200&height=630&quality=85&auto=format&fit=crop&overlay-align=bottom%2Cleft&overlay-width=100p&overlay-base64=L2ltZy9zdGF0aWMvb3ZlcmxheXMvdGctZGVmYXVsdC5wbmc&s=582b47efbbad70b2c7ff2895c0d12887',\n",
       "   'publishedAt': '2019-02-28T18:04:43Z',\n",
       "   'content': 'Pacific Gas &amp; Electric says its equipment may have ignited the 2018 Camp Fire, which killed 86 people and destroyed an entire town in Northern California.\\r\\nThe embattled utility said Thursday its taking a $10.5bn charge for claims connected to the Camp Fi… [+462 chars]'},\n",
       "  {'source': {'id': None, 'name': 'Moneycontrol.com'},\n",
       "   'author': None,\n",
       "   'title': 'IAF Air Strike LIVE: Pakistani jets violate Indian air space, enter Nowshera - Moneycontrol.com',\n",
       "   'description': 'IAF Air Strike LIVE: Pakistani jets violate Indian air space, enter Nowshera Moneycontrol.com Indian Army destroys 5 Pakistani posts in retaliation along LoC in J&K Times of India Civilians Along LoC Face Brunt of Shelling as Govt Fails to Construct Bunkers D…',\n",
       "   'url': 'https://www.moneycontrol.com/news/india/surgical-strike-2-0-live-updates-pakistani-f16-jet-shot-down-srinagar-jammu-amritsar-airports-closed-for-civilian-air-traffic-3582911.html',\n",
       "   'urlToImage': 'https://static-news.moneycontrol.com/static-mcnews/2019/02/RTRDKJF-770x433.jpg',\n",
       "   'publishedAt': '2019-02-27T05:49:01Z',\n",
       "   'content': 'Indian Army destroys 5 Pakistani posts in retaliation along LoC\\r\\nThe Indian Army destroyed five Pakistani posts along the Line of Control in Jammu and Kashmir yesterday night in a befitting retaliation to firing from across the border, resulting in a \"number … [+580 chars]'},\n",
       "  {'source': {'id': None, 'name': 'Marinecorpstimes.com'},\n",
       "   'author': 'Military Times',\n",
       "   'title': 'The Marine Corps is looking for new weapons to fend off Russian and Chinese missiles',\n",
       "   'description': \"US Marine Corps/Cpl. Aaron Henson The US military is shifting its focus to potentially fighting a sophisticated adversary. That means a foe that could threat US forces with missiles and other aerial weapons. For the Marine Corps, a new threat means there's a …\",\n",
       "   'url': 'https://www.marinecorpstimes.com/news/your-marine-corps/2019/02/11/why-the-corps-needs-a-system-to-shoot-down-russian-and-chinese-cruise-missiles/',\n",
       "   'urlToImage': 'https://amp.businessinsider.com/images/5c634eb4262898412a3a2c39-960-480.jpg',\n",
       "   'publishedAt': '2019-02-12T22:56:53Z',\n",
       "   'content': \"To survive in the vastness of the Pacific Ocean in a fight with a near-peer rival, the Corps will need weapon systems to contend with aerial and cruise missile threats. \\r\\n It's a problem the Corps hasn't had to deal with after years of counterinsurgency confl… [+3024 chars]\"},\n",
       "  {'source': {'id': None, 'name': 'Buzzfeednews.com'},\n",
       "   'author': 'Brianna Sacks',\n",
       "   'title': 'PG&E Says For The First Time It Believes Its Equipment Started The Deadliest Wildfire In California History',\n",
       "   'description': 'The utility \"believes it is probable that its equipment will be determined to be an ignition point\" for the Camp fire, which killed at least 85 people and reduced a town to ashes. View Entire Post ›',\n",
       "   'url': 'https://www.buzzfeednews.com/article/briannasacks/pge-started-camp-fire-california-deadly-wildfires',\n",
       "   'urlToImage': 'https://img.buzzfeed.com/buzzfeed-static/static/2019-02/28/17/campaign_images/buzzfeed-prod-web-03/pge-says-for-the-first-time-it-believes-its-equip-2-1871-1551394727-0_dblbig.jpg',\n",
       "   'publishedAt': '2019-02-28T23:05:33Z',\n",
       "   'content': \"LOS ANGELES A month after filing for bankruptcy over its role in igniting several devastating wildfires in California, the nation's largest utility company announced Thursday that it was likely responsible for the deadliest blaze in state history.\\r\\nPacific Ga… [+6981 chars]\"},\n",
       "  {'source': {'id': None, 'name': 'Huffpost.com'},\n",
       "   'author': 'Cyndy Etler',\n",
       "   'title': 'I Spent 16 Months Of My Childhood Locked In A Warehouse',\n",
       "   'description': 'The ACLU called it “a concentration camp for throwaway teens.”',\n",
       "   'url': 'https://www.huffpost.com/entry/straight-inc_n_5c76a914e4b062b30eba021e',\n",
       "   'urlToImage': 'https://img.huffingtonpost.com/asset/5c77edcd2400002f04a29cf1.jpeg?ops=1910_1000',\n",
       "   'publishedAt': '2019-03-01T14:00:30Z',\n",
       "   'content': 'When I was a kid, my mother locked me in a warehouse and left me there. For 16 months. Her husband had been beating and molesting me, but then I hit puberty and started fighting back and nobody wants to deal with a loud, angry teenager.\\r\\nThe warehouse was occ… [+13449 chars]'},\n",
       "  {'source': {'id': None, 'name': 'Boingboing.net'},\n",
       "   'author': 'Xeni Jardin',\n",
       "   'title': 'VP Mike Pence to visit Auschwitz death camp on Europe trip',\n",
       "   'description': '“The vice president will essentially call out Iran for their actions. He will give a message to those groups that are there, that, you know, if you stand with us, we’ll stand with you,” a White House official said.',\n",
       "   'url': 'https://boingboing.net/2019/02/11/vp-mike-pence-to-visit-auschwi.html',\n",
       "   'urlToImage': 'https://media.boingboing.net/wp-content/uploads/2019/02/mikepence.jpg',\n",
       "   'publishedAt': '2019-02-12T00:44:28Z',\n",
       "   'content': 'The vice president will essentially call out Iran for their actions. He will give a message to those groups that are there, that, you know, if you stand with us, well stand with you, a White House official said.\\r\\nConservative Christian and expressionless piec… [+3248 chars]'},\n",
       "  {'source': {'id': None, 'name': 'Lifehacker.com'},\n",
       "   'author': 'Stephen Johnson on Offspring, shared by Stephen Johnson to Lifehacker',\n",
       "   'title': \"How to Play Far Cry New Dawn in 'Dad Mode'\",\n",
       "   'description': 'Far Cry New Dawn, the newest release in Ubisoft’s open world Far Cry series, is set years after the apocalyptic nuclear event that ended Far Cry 5. Hope County, Montana has been nearly destroyed, but a rag-tag band of survivors wants to rebuild. Your job is t…',\n",
       "   'url': 'https://offspring.lifehacker.com/how-to-play-far-cry-new-dawn-in-dad-mode-1832662007',\n",
       "   'urlToImage': 'https://i.kinja-img.com/gawker-media/image/upload/s--CrPBqXZ1--/c_fill,fl_progressive,g_center,h_900,q_80,w_1600/m2awazuorfrwt2u4grlm.jpg',\n",
       "   'publishedAt': '2019-02-19T21:00:00Z',\n",
       "   'content': 'Far Cry New Dawn, the newest release in Ubisofts open world Far Cry series, is set years after the apocalyptic nuclear event that ended Far Cry 5. Hope County, Montana has been nearly destroyed, but a rag-tag band of survivors wants to rebuild. Your job is to… [+6218 chars]'},\n",
       "  {'source': {'id': None, 'name': 'Huffpost.com'},\n",
       "   'author': 'Nina Golgowski',\n",
       "   'title': 'California Man Sentenced To 12 Years In Prison For Starting Cranston Wildfire',\n",
       "   'description': 'Brandon McGlover, 33, pleaded guilty to setting the fire that destroyed more than 13,000 acres east of Los Angeles.',\n",
       "   'url': 'https://www.huffpost.com/entry/brandon-mcglover-sentened-cranston-fire_n_5c6abe92e4b05c889d21b1de',\n",
       "   'urlToImage': 'https://img.huffingtonpost.com/asset/5c6ad50f250000590480a5a4.jpeg?ops=1910_1000',\n",
       "   'publishedAt': '2019-02-18T16:39:56Z',\n",
       "   'content': 'A Southern California man has been sentenced to 12 years in prison after pleading guilty to starting a wildfire last summer that destroyed more than 13,000 acres east of Los Angeles.\\r\\nBrandon McGlover, 33, pleaded guilty on Thursday to two counts of arson to … [+1593 chars]'},\n",
       "  {'source': {'id': 'usa-today', 'name': 'USA Today'},\n",
       "   'author': 'USA TODAY, Kristin Lam, USA TODAY',\n",
       "   'title': 'Dog reunited 101 days after California wildfire; family believes he survived eating skunks',\n",
       "   'description': 'The Ballejos family reunited with their dog 101 days after a devastating wildfire began, believing he survived by eating skunks.',\n",
       "   'url': 'https://www.usatoday.com/story/news/2019/02/19/camp-fire-dog-reunited-101-days-after-california-wildfire/2921836002/?utm_source=google&utm_medium=amp&utm_campaign=speakable',\n",
       "   'urlToImage': 'https://www.gannett-cdn.com/presto/2019/02/20/USAT/198aa92c-8a32-477f-8037-ea04b0fcfe9a-AP_California_Wildfire_Dog_Reunited.JPG?crop=749,427,x0,y21&width=3200&height=1680&fit=bounds',\n",
       "   'publishedAt': '2019-02-20T05:13:30Z',\n",
       "   'content': 'This Feb. 18, 2019 photo provided by Ben Lepe shows Maleah Ballejos reunited with her dog Kingston in Paradise, Calif. The Akita named Kingston was reunited with his family 101 days after he jumped out of their truck as they fled a devastating Northern Califo… [+2115 chars]'},\n",
       "  {'source': {'id': None, 'name': 'Instructables.com'},\n",
       "   'author': 'Ham-made',\n",
       "   'title': 'Dryer Lint Fire Starter Twigs',\n",
       "   'description': '<!--dda7bd42579b4dc0937c45f979fc5c69-->Every year, thousands of house fires are caused by dryer lint. The lint accumulates over time along the inner walls of the dryer’s exhaust system and if not properly maintained, that surplus of lint has the potential to …',\n",
       "   'url': 'https://www.instructables.com/id/Dryer-Lint-Fire-Starter-Twigs/',\n",
       "   'urlToImage': 'https://www.instructables.com/files/orig/FEI/S5TK/JSPA8LJW/FEIS5TKJSPA8LJW.gif?width=680',\n",
       "   'publishedAt': '2019-03-01T04:46:54Z',\n",
       "   'content': 'Every year, thousands of house fires are caused by dryer lint. The lint accumulates over time along the inner walls of the dryers exhaust system and if not properly maintained, that surplus of lint has the potential to ignite and cause a fire. \\r\\nTo increase t… [+517 chars]'},\n",
       "  {'source': {'id': 'usa-today', 'name': 'USA Today'},\n",
       "   'author': 'USA TODAY, Kristin Lam, USA TODAY',\n",
       "   'title': 'Verizon Super Bowl ads honor California firefighters after throttling their data speeds',\n",
       "   'description': \"Verizon paid tribute to California first responders in a pair of Super Bowl advertisements Sunday following criticism for throttling firefighters' data speeds last summer during the one of the state's largest wildfires.\",\n",
       "   'url': 'https://www.usatoday.com/story/news/2019/02/03/verizon-super-bowl-ads-honor-california-firefighters-after-controversy/2765137002/?utm_source=google&utm_medium=amp&utm_campaign=speakable',\n",
       "   'urlToImage': 'https://www.gannett-cdn.com/presto/2018/12/19/USAT/5cb5a705-5c8b-4fab-adee-d4c3cd3a8530-20180701.jpg?crop=5567,3117,x0,y0&width=3200&height=1680&fit=bounds',\n",
       "   'publishedAt': '2019-02-04T04:32:36Z',\n",
       "   'content': \"Twin fires north of San Francisco burning just miles apart became the largest collective wildfire in state history on Monday. The Mendocino Complex fire has destroyed more than 443 square miles of forest and rural areas. It's still growing. (Aug. 7)\\r\\n AP\\r\\nVer… [+2575 chars]\"}]}"
      ]
     },
     "execution_count": 58,
     "metadata": {},
     "output_type": "execute_result"
    }
   ],
   "source": [
    "# No need to use this.\n",
    "response = requests.get(\"https://newsapi.org/v2/everything\", params = {\n",
    "    \"q\": \"camp fire\",\n",
    "    \"sortBy\": \"relevancy\",\n",
    "    \"apiKey\": key\n",
    "})\n",
    "\n",
    "response.raise_for_status()\n",
    "\n",
    "r = response.json()"
   ]
  },
  {
   "cell_type": "code",
   "execution_count": 35,
   "metadata": {},
   "outputs": [
    {
     "data": {
      "text/plain": [
       "'Pacific Gas & Electric said Thursday that its equipment had probably caused the Camp Fire, the catastrophic November blaze that destroyed thousands of homes in Paradise, Calif., and killed at least 86 people.\\n\\nPG&E, which filed for bankruptcy protection in January, said it had recorded a $10.5 billion charge in anticipation of damage claims for that fire, the deadliest in state history. Largely as a result, the company reported a $6.9 billion loss for 2018.\\n\\nThough the cause of the fire is still under official investigation by California officials, PG&E said it “believes it is probable that its equipment will be determined to be an ignition point of the 2018 Camp Fire.” Attempts to determine the fire’s cause center on the 56-mile Caribou-Palermo electric transmission line.\\n\\nThe California Department of Forestry and Fire Protection has said the fire started at 6:33 a.m. on Nov. 8 near a tower on that line. PG&E said that its line de-energized at 6:15 a.m., adding that 15 minutes later an employee observed a fire near the tower. Later that day, utility workers discovered that a part had separated from an arm on the tower, the company said.'"
      ]
     },
     "execution_count": 35,
     "metadata": {},
     "output_type": "execute_result"
    }
   ],
   "source": [
    "# Test the newspaper function.\n",
    "link = \"https://www.nytimes.com/2019/02/28/business/energy-environment/pge-camp-fire.html\"\n",
    "#link = 'https://krcrtv.com/news/butte-county/highway-70-to-be-closed-for-emergency-camp-fire-repairs'\n",
    "#link = \"http://krcrtv.com/news/butte-county/hundreds-of-trips-made-per-day-from-paradise-to-oroville-and-wheatland-with-debris\"\n",
    "#link = \"https://krcrtv.com/news/camp-fire/camp-fire-debris-removal-could-be-halted-due-to-weather-cal-recycle-says\"\n",
    "article = Article(link)\n",
    "article.download()\n",
    "article.parse()\n",
    "article.text"
   ]
  },
  {
   "cell_type": "code",
   "execution_count": 49,
   "metadata": {},
   "outputs": [
    {
     "data": {
      "text/plain": [
       "'Pacific Gas & Electric said Thursday that its equipment had probably caused the Camp Fire, the catastrophic November blaze that destroyed thousands of homes in Paradise, Calif., and killed at least 86 people.\\n\\nPG&E, which filed for bankruptcy protection in January, said it had recorded a $10.5 billion charge in anticipation of damage claims for that fire, the deadliest in state history. Largely as a result, the company reported a $6.9 billion loss for 2018.\\n\\nThough the cause of the fire is still under official investigation by California officials, PG&E said it “believes it is probable that its equipment will be determined to be an ignition point of the 2018 Camp Fire.” Attempts to determine the fire’s cause center on the 56-mile Caribou-Palermo electric transmission line.\\n\\nThe California Department of Forestry and Fire Protection has said the fire started at 6:33 a.m. on Nov. 8 near a tower on that line. PG&E said that its line de-energized at 6:15 a.m., adding that 15 minutes later an employee observed a fire near the tower. Later that day, utility workers discovered that a part had separated from an arm on the tower, the company said.'"
      ]
     },
     "execution_count": 49,
     "metadata": {},
     "output_type": "execute_result"
    }
   ],
   "source": [
    "# Test memoize_articles = False (don't cache)\n",
    "article = Article(link, memoize_articles = False)\n",
    "article.download()\n",
    "article.parse()\n",
    "article.text"
   ]
  },
  {
   "cell_type": "code",
   "execution_count": 50,
   "metadata": {},
   "outputs": [
    {
     "data": {
      "text/plain": [
       "datetime.datetime(2019, 2, 28, 0, 0)"
      ]
     },
     "execution_count": 50,
     "metadata": {},
     "output_type": "execute_result"
    }
   ],
   "source": [
    "#article.summary\n",
    "#article.keywords\n",
    "article.publish_date"
   ]
  },
  {
   "cell_type": "code",
   "execution_count": 38,
   "metadata": {},
   "outputs": [],
   "source": [
    "# Get google news links for each search term\n",
    "search_term_links = [\n",
    "    \"https://news.google.com/search?q=camp%20fire&hl=en-US&gl=US&ceid=US%3Aen\",\n",
    "    \"https://news.google.com/search?for=camp%20fire%20death%20toll&hl=en-US&gl=US&ceid=US%3Aen\",\n",
    "    \"https://news.google.com/search?for=camp%20fire%20california&hl=en-US&gl=US&ceid=US%3Aen\",\n",
    "    \"https://news.google.com/search?for=camp%20fire%20paradise&hl=en-US&gl=US&ceid=US%3Aen\",\n",
    "    \"https://news.google.com/search?for=camp%20fire%20map&hl=en-US&gl=US&ceid=US%3Aen\",\n",
    "    \"https://news.google.com/search?for=camp%20fire%20news&hl=en-US&gl=US&ceid=US%3Aen\",\n",
    "    \"https://news.google.com/search?for=camp%20fire%20cleanup&hl=en-US&gl=US&ceid=US%3Aen\",\n",
    "    \"https://news.google.com/search?for=camp%20fire%20debris%20removal&hl=en-US&gl=US&ceid=US%3Aen\",\n",
    "    \"https://news.google.com/search?for=camp%20fire%20pg&e&hl=en-US&gl=US&ceid=US%3Aen\",\n",
    "    \"https://news.google.com/search?for=camp%20fire%20investigation&hl=en-US&gl=US&ceid=US%3Aen\"\n",
    "]"
   ]
  },
  {
   "cell_type": "code",
   "execution_count": 39,
   "metadata": {},
   "outputs": [],
   "source": [
    "# Get article links\n",
    "def get_links(url):\n",
    "    \"\"\"Gets the article links for one Chronicle article list. The parameter \"url\" is the url to the \n",
    "    article list.\"\"\"\n",
    "    \n",
    "    response = requests.get(url)\n",
    "    response.raise_for_status()\n",
    "    html = lx.fromstring(response.text)\n",
    "    html.make_links_absolute(url)\n",
    "    \n",
    "    # Get the links that contain the word \"article\".\n",
    "    #links = html.xpath(\"//div/a/@href\")\n",
    "    links = html.xpath(\"//*[contains(@class, 'NiLAwe y6IFtc R7GTQ keNKEd j7vNaf nID9nc')]/a/@href\")\n",
    "\n",
    "    return links"
   ]
  },
  {
   "cell_type": "code",
   "execution_count": 41,
   "metadata": {},
   "outputs": [
    {
     "data": {
      "text/plain": [
       "680"
      ]
     },
     "execution_count": 41,
     "metadata": {},
     "output_type": "execute_result"
    }
   ],
   "source": [
    "# Get article links for each search term\n",
    "l = [get_links(l) for l in search_term_links]\n",
    "\n",
    "# Unlist the links and get the unique links.\n",
    "links = [item for sublist in l for item in sublist]\n",
    "links = np.unique(links)\n",
    "\n",
    "# Not sure if this line is necessary?\n",
    "#links = [x.strip() for x in links]\n",
    "\n",
    "len(links)"
   ]
  },
  {
   "cell_type": "code",
   "execution_count": 42,
   "metadata": {},
   "outputs": [],
   "source": [
    "# Extract text and publish data for the urls\n",
    "\n",
    "# If we don't want to cache:\n",
    "#config = Config()\n",
    "#config.memoize_articles = False\n",
    "#article_1 = Article(url='http://espn/2013/09/...', config)\n",
    "#https://media.readthedocs.org/pdf/newspaper/latest/newspaper.pdf\n",
    "\n",
    "def get_article_info(link):\n",
    "    \"\"\"Extract the title, text, publish date from a news article. The parameter link is the article link.\n",
    "    Returns a dictionary of title, text, publish date, and url.\"\"\"\n",
    "    \n",
    "    # Do not get the images.\n",
    "    article = Article(link, fetch_images = False)\n",
    "    \n",
    "    # Not all articles can be downloaded/parsed.\n",
    "    try:\n",
    "        article.download()\n",
    "        article.parse()\n",
    "        \n",
    "        title = article.title\n",
    "        text = article.text # was in a try/except block\n",
    "        date = article.publish_date\n",
    "    except:\n",
    "        # If article can't be parsed, set the variables to None.\n",
    "        title = None\n",
    "        text = None\n",
    "        date = None\n",
    "    \n",
    "    url = link\n",
    "    \n",
    "    res = {\"url\": url, \n",
    "           \"title\": title, \n",
    "           \"text\": text,\n",
    "           \"date\": date}\n",
    "    \n",
    "    #time.sleep(0.05)\n",
    "    return res"
   ]
  },
  {
   "cell_type": "code",
   "execution_count": 43,
   "metadata": {},
   "outputs": [
    {
     "data": {
      "text/plain": [
       "{'url': 'https://www.nytimes.com/2019/02/28/business/energy-environment/pge-camp-fire.html',\n",
       " 'title': 'PG&E Says It Probably Caused the Fire That Destroyed Paradise, Calif.',\n",
       " 'text': 'Pacific Gas & Electric said Thursday that its equipment had probably caused the Camp Fire, the catastrophic November blaze that destroyed thousands of homes in Paradise, Calif., and killed at least 86 people.\\n\\nPG&E, which filed for bankruptcy protection in January, said it had recorded a $10.5 billion charge in anticipation of damage claims for that fire, the deadliest in state history. Largely as a result, the company reported a $6.9 billion loss for 2018.\\n\\nThough the cause of the fire is still under official investigation by California officials, PG&E said it “believes it is probable that its equipment will be determined to be an ignition point of the 2018 Camp Fire.” Attempts to determine the fire’s cause center on the 56-mile Caribou-Palermo electric transmission line.\\n\\nThe California Department of Forestry and Fire Protection has said the fire started at 6:33 a.m. on Nov. 8 near a tower on that line. PG&E said that its line de-energized at 6:15 a.m., adding that 15 minutes later an employee observed a fire near the tower. Later that day, utility workers discovered that a part had separated from an arm on the tower, the company said.',\n",
       " 'date': datetime.datetime(2019, 2, 28, 0, 0)}"
      ]
     },
     "execution_count": 43,
     "metadata": {},
     "output_type": "execute_result"
    }
   ],
   "source": [
    "# test it\n",
    "get_article_info(link)"
   ]
  },
  {
   "cell_type": "code",
   "execution_count": null,
   "metadata": {},
   "outputs": [],
   "source": [
    "# NOTE: extracting article info is extremely slow and results in a huge cache. Not sure if we should still cache?"
   ]
  },
  {
   "cell_type": "code",
   "execution_count": 45,
   "metadata": {},
   "outputs": [],
   "source": [
    "# Extract article info. Returns a list of dictionaries.\n",
    "article_list = [get_article_info(x) for x in links]"
   ]
  },
  {
   "cell_type": "code",
   "execution_count": 46,
   "metadata": {},
   "outputs": [],
   "source": [
    "# Convert the article list to a dataframe.\n",
    "articles = pd.DataFrame(article_list)\n",
    "\n",
    "# Remove articles where we could not extract the the text.\n",
    "articles = articles[~articles[\"text\"].isna()]"
   ]
  },
  {
   "cell_type": "code",
   "execution_count": 51,
   "metadata": {},
   "outputs": [
    {
     "data": {
      "text/html": [
       "<div>\n",
       "<style scoped>\n",
       "    .dataframe tbody tr th:only-of-type {\n",
       "        vertical-align: middle;\n",
       "    }\n",
       "\n",
       "    .dataframe tbody tr th {\n",
       "        vertical-align: top;\n",
       "    }\n",
       "\n",
       "    .dataframe thead th {\n",
       "        text-align: right;\n",
       "    }\n",
       "</style>\n",
       "<table border=\"1\" class=\"dataframe\">\n",
       "  <thead>\n",
       "    <tr style=\"text-align: right;\">\n",
       "      <th></th>\n",
       "      <th>date</th>\n",
       "      <th>text</th>\n",
       "      <th>title</th>\n",
       "      <th>url</th>\n",
       "    </tr>\n",
       "  </thead>\n",
       "  <tbody>\n",
       "    <tr>\n",
       "      <th>0</th>\n",
       "      <td>None</td>\n",
       "      <td>Some Austinites mark the return of spring by t...</td>\n",
       "      <td>Austin festival season fires up with return of...</td>\n",
       "      <td>http://austin.culturemap.com/news/restaurants-...</td>\n",
       "    </tr>\n",
       "    <tr>\n",
       "      <th>1</th>\n",
       "      <td>2018-07-30 00:00:00</td>\n",
       "      <td>California wildfires are raging this summer, b...</td>\n",
       "      <td>California Fires Map: Get the Latest Updates f...</td>\n",
       "      <td>http://fortune.com/2018/07/30/mendocino-comple...</td>\n",
       "    </tr>\n",
       "    <tr>\n",
       "      <th>2</th>\n",
       "      <td>2018-11-08 00:00:00</td>\n",
       "      <td>California wildfires are burning again, with t...</td>\n",
       "      <td>California Fires: Wildfires Map for Camp, Wool...</td>\n",
       "      <td>http://fortune.com/2018/11/08/california-fires...</td>\n",
       "    </tr>\n",
       "    <tr>\n",
       "      <th>3</th>\n",
       "      <td>2018-12-07 00:00:00</td>\n",
       "      <td>It’s one thing to read about the massive devas...</td>\n",
       "      <td>Heartbreaking 360-Degree Film Shows Aftermath ...</td>\n",
       "      <td>http://fortune.com/2018/12/07/360-degree-video...</td>\n",
       "    </tr>\n",
       "    <tr>\n",
       "      <th>4</th>\n",
       "      <td>2019-02-11 00:00:00</td>\n",
       "      <td>PG&amp;E is restructuring its board following the ...</td>\n",
       "      <td>PG&amp;E Board of Directors Is Restructuring After...</td>\n",
       "      <td>http://fortune.com/2019/02/11/pge-reshapes-boa...</td>\n",
       "    </tr>\n",
       "  </tbody>\n",
       "</table>\n",
       "</div>"
      ],
      "text/plain": [
       "                  date                                               text  \\\n",
       "0                 None  Some Austinites mark the return of spring by t...   \n",
       "1  2018-07-30 00:00:00  California wildfires are raging this summer, b...   \n",
       "2  2018-11-08 00:00:00  California wildfires are burning again, with t...   \n",
       "3  2018-12-07 00:00:00  It’s one thing to read about the massive devas...   \n",
       "4  2019-02-11 00:00:00  PG&E is restructuring its board following the ...   \n",
       "\n",
       "                                               title  \\\n",
       "0  Austin festival season fires up with return of...   \n",
       "1  California Fires Map: Get the Latest Updates f...   \n",
       "2  California Fires: Wildfires Map for Camp, Wool...   \n",
       "3  Heartbreaking 360-Degree Film Shows Aftermath ...   \n",
       "4  PG&E Board of Directors Is Restructuring After...   \n",
       "\n",
       "                                                 url  \n",
       "0  http://austin.culturemap.com/news/restaurants-...  \n",
       "1  http://fortune.com/2018/07/30/mendocino-comple...  \n",
       "2  http://fortune.com/2018/11/08/california-fires...  \n",
       "3  http://fortune.com/2018/12/07/360-degree-video...  \n",
       "4  http://fortune.com/2019/02/11/pge-reshapes-boa...  "
      ]
     },
     "execution_count": 51,
     "metadata": {},
     "output_type": "execute_result"
    }
   ],
   "source": [
    "articles.head()"
   ]
  },
  {
   "cell_type": "code",
   "execution_count": 20,
   "metadata": {},
   "outputs": [],
   "source": [
    "def tokenize_text(df):\n",
    "    \"\"\"Combine the strings in the \"text\" column of dataframe df into one long string. Then, tokenize the\n",
    "    string and make all words lowercase.\"\"\"\n",
    "    \n",
    "    # Combine the \"text\" column into a string.\n",
    "    doc = ' '.join(df['text'].tolist())\n",
    "\n",
    "    # Tokenize and make lowercase.\n",
    "    words = nltk.word_tokenize(doc)\n",
    "    words = [w.lower() for w in words]\n",
    "    \n",
    "    return words"
   ]
  },
  {
   "cell_type": "code",
   "execution_count": 21,
   "metadata": {},
   "outputs": [],
   "source": [
    "# I took this function from Nick's lecture 2/14. It is for lemmitization.\n",
    "def wordnet_pos(tag):\n",
    "    \"\"\"Map a Brown POS tag to a WordNet POS tag.\"\"\"\n",
    "    \n",
    "    table = {\"N\": wordnet.NOUN, \"V\": wordnet.VERB, \"R\": wordnet.ADV, \"J\": wordnet.ADJ}\n",
    "    \n",
    "    # Default to a noun.\n",
    "    return table.get(tag[0], wordnet.NOUN)"
   ]
  },
  {
   "cell_type": "code",
   "execution_count": 22,
   "metadata": {},
   "outputs": [],
   "source": [
    "def lemmatize_text(words):\n",
    "    \"\"\"Lemmatize words to get the base words. The input 'words' is a list of of words.\"\"\"\n",
    "    \n",
    "    lemmatizer = nltk.WordNetLemmatizer()\n",
    "    word_tags = nltk.pos_tag(words)\n",
    "    words = [lemmatizer.lemmatize(w, wordnet_pos(t)) for (w, t) in word_tags]\n",
    "    \n",
    "    return words"
   ]
  },
  {
   "cell_type": "code",
   "execution_count": 23,
   "metadata": {},
   "outputs": [],
   "source": [
    "def remove_stopwords(words):\n",
    "    \"\"\"Remove stopwords from a string.\"\"\"\n",
    "    \n",
    "    stopwords = nltk.corpus.stopwords.words(\"english\")\n",
    "    words = [w for w in words if w not in stopwords]\n",
    "    \n",
    "    return words"
   ]
  },
  {
   "cell_type": "code",
   "execution_count": 29,
   "metadata": {},
   "outputs": [],
   "source": [
    "# Tokenize, lemmatize, and remove stopwords for the text of all articles.\n",
    "words = tokenize_text(articles)\n",
    "words = lemmatize_text(words)\n",
    "words = remove_stopwords(words)"
   ]
  },
  {
   "cell_type": "code",
   "execution_count": 30,
   "metadata": {},
   "outputs": [
    {
     "data": {
      "image/png": "[encoded data removed]",
      "text/plain": [
       "<Figure size 720x576 with 1 Axes>"
      ]
     },
     "metadata": {
      "needs_background": "light"
     },
     "output_type": "display_data"
    }
   ],
   "source": [
    "# Create a frequency plot.\n",
    "fq = nltk.FreqDist(w for w in words if w.isalnum())\n",
    "fq.plot(25, title = \"Top 25 Word Frequencies\")"
   ]
  },
  {
   "cell_type": "code",
   "execution_count": null,
   "metadata": {},
   "outputs": [],
   "source": []
  }
 ],
 "metadata": {
  "kernelspec": {
   "display_name": "Python 3",
   "language": "python",
   "name": "python3"
  },
  "language_info": {
   "codemirror_mode": {
    "name": "ipython",
    "version": 3
   },
   "file_extension": ".py",
   "mimetype": "text/x-python",
   "name": "python",
   "nbconvert_exporter": "python",
   "pygments_lexer": "ipython3",
   "version": "3.7.1"
  }
 },
 "nbformat": 4,
 "nbformat_minor": 2
}
