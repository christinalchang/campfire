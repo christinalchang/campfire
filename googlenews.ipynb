{
 "cells": [
  {
   "cell_type": "code",
   "execution_count": 44,
   "metadata": {},
   "outputs": [],
   "source": [
    "# Load packages\n",
    "import pandas as pd\n",
    "import numpy as np\n",
    "import lxml.html as lx\n",
    "import requests\n",
    "import requests_cache\n",
    "from newspaper import Article\n",
    "\n",
    "requests_cache.install_cache(\"mycache\")"
   ]
  },
  {
   "cell_type": "code",
   "execution_count": 3,
   "metadata": {},
   "outputs": [],
   "source": [
    "# Read the api key. I got this function from Nick's lecture notes from 1/31.\n",
    "def read_key(keyfile):\n",
    "    with open(keyfile) as f:\n",
    "        return f.readline().strip(\"\\n\")\n",
    "    \n",
    "key = read_key(\"../keys/googlenews.txt\")"
   ]
  },
  {
   "cell_type": "code",
   "execution_count": 41,
   "metadata": {},
   "outputs": [
    {
     "data": {
      "text/plain": [
       "'sending its troops to the disputed Doklam area +\\n\\nputs Indian territory at risk +\\n\\nBEIJING: A Chinese expert has argued that his country\\'s troops would be entitled to enter the Indian side of Kashmir by extending the logic that has permitted Indian troops to enter an area which is disputed by China and Bhutan This is one of the several arguments made by the scholar in an attempt to blame India for. India has responded to efforts by China to build a road in the Doklam area, which falls next to the trijunction connecting Sikkim with Tibet and Bhutan and\"Even if India were requested to defend Bhutan\\'s territory, this could only be limited to its established territory, not the disputed area,\" Long Xingchun, director of the Center for Indian Studies at China West Normal University said in an article. \"Otherwise, under India\\'s logic, if the Pakistani government requests, a third country\\'s army can enter the area disputed by India and Pakistan, including India-controlled Kashmir\".China is not just interfering, it is building roads and other infrastructure projects right inside Pakistan-Occupied Kashmir (PoK), which is claimed by both India and Pakistan. This is one of the facts that the article did not mention.The scholar, through his article in the Beijing-based Global Times , suggested that Beijing can internationalize the Doklam controversy without worrying about western countries supporting India because the West has a lot of business to do with China.\"China can show the region and the international community or even the UN Security Council its evidence to illustrate China\\'s position,\" Long said. At the same time, he complained that \"Western governments and media kept silent, ignoring India\\'s hegemony over the small countries of South Asia\" when India imposed a blockade on the flow of goods to Nepal in 2015.Recent actions by US president Donald Trump , which include selling arms to Taiwan and pressuring China on the North Korean issue, shows that the West is not necessarily cowered down by China\\'s business capabilities.He reiterated the government\\'s stated line that Doklam belongs to China, and that Indian troops had entered the area under the guise of helping Bhutan protect its territory.\"For a long time, India has been talking about international equality and non-interference in the internal affairs of others, but it has pursued hegemonic diplomacy in South Asia, seriously violating the UN Charter and undermining the basic norms of international relations,\" he said.Interestingly, Chinese scholars are worrying about India interfering in Bhutan\\'s \"sovereignty and national interests\" even though it is Chinese troops who have entered the Doklam area claimed by it.\"Indians have migrated in large numbers to Nepal and Bhutan, interfering with Nepal\\'s internal affairs. The first challenge for Nepal and Bhutan is to avoid becoming a state of India, like Sikkim,\" he said.'"
      ]
     },
     "execution_count": 41,
     "metadata": {},
     "output_type": "execute_result"
    }
   ],
   "source": [
    "#link = \"https://www.nytimes.com/2019/02/28/business/energy-environment/pge-camp-fire.html\"\n",
    "#link = 'https://krcrtv.com/news/butte-county/highway-70-to-be-closed-for-emergency-camp-fire-repairs'\n",
    "link = 'https://timesofindia.indiatimes.com/world/china/chinese-expert-warns-of-troops-entering-kashmir/articleshow/59516912.cms'\n",
    "article = Article(link)\n",
    "article.download()\n",
    "article.parse()\n",
    "article.text"
   ]
  },
  {
   "cell_type": "code",
   "execution_count": 58,
   "metadata": {},
   "outputs": [
    {
     "data": {
      "text/plain": [
       "{'status': 'ok',\n",
       " 'totalResults': 2306,\n",
       " 'articles': [{'source': {'id': 'the-new-york-times',\n",
       "    'name': 'The New York Times'},\n",
       "   'author': 'JILL COWAN',\n",
       "   'title': 'California Today: California Today: Why ‘the Worst of Both Worlds’ Is in the Forecast',\n",
       "   'description': 'Friday: Californians will most likely face more extreme weather; Pacific Gas & Electric’s role in the Camp Fire; San Diego treats',\n",
       "   'url': 'https://www.nytimes.com/2019/03/01/us/california-today-extreme-weather-forecast.html',\n",
       "   'urlToImage': 'https://static01.nyt.com/images/2019/03/01/us/01campfirecatoday/merlin_151063710_b332153e-e314-410c-8eef-5c41339f26bd-facebookJumbo.jpg',\n",
       "   'publishedAt': '2019-03-01T14:09:58Z',\n",
       "   'content': 'Im heading to San Diego this weekend, which feels like a real stroke of luck, in light of this weeks recommendation from Tejal Rao, The Timess California restaurant critic. But even if youre far away, take this as an invitation to treat yourself to your favor… [+1197 chars]'},\n",
       "  {'source': {'id': 'the-new-york-times', 'name': 'The New York Times'},\n",
       "   'author': 'PETER EAVIS',\n",
       "   'title': 'PG&E Says It Probably Caused the Fire That Destroyed Paradise, Calif.',\n",
       "   'description': 'The remnants of mobile homes in Paradise, Calif., after the Camp Fire. Pacific Gas & Electric said on Thursday that its equipment probably caused the fire.',\n",
       "   'url': 'https://www.nytimes.com/2019/02/28/business/energy-environment/pge-camp-fire.html',\n",
       "   'urlToImage': 'https://static01.nyt.com/images/2019/03/01/business/01Utility/01Utility-facebookJumbo.jpg',\n",
       "   'publishedAt': '2019-02-28T16:37:30Z',\n",
       "   'content': 'On Thursday, the company said it was stepping up equipment inspections in areas that regulators have identified as having a high fire risk. We recognize that more must be done to adapt to and address the increasing threat of wildfires and extreme weather in o… [+1216 chars]'},\n",
       "  {'source': {'id': 'the-new-york-times', 'name': 'The New York Times'},\n",
       "   'author': 'JILL COWAN',\n",
       "   'title': 'California Today: California Today: In Paradise, an Artist Draws Out ‘Beauty Among the Ashes’',\n",
       "   'description': 'Thursday: Murals are part of a healing process after the Camp Fire; flooding in the North Bay; and the Oakland teachers’ strike continues',\n",
       "   'url': 'https://www.nytimes.com/2019/02/28/us/california-today-paradise-art-murals.html',\n",
       "   'urlToImage': 'https://static01.nyt.com/images/2019/02/28/arts/28Californiatoday-art3/fileupload-1551350962762-facebookJumbo.jpg',\n",
       "   'publishedAt': '2019-02-28T13:53:07Z',\n",
       "   'content': 'I recently talked to Shane Grammer, an artist who grew up in nearby Chico and has worked on installations at Disneyland, Universal Studios and Legoland. Now based in Los Angeles, he said he started to see images of the destruction posted by people he knew.\\r\\nT… [+790 chars]'},\n",
       "  {'source': {'id': None, 'name': 'Citynews1130.com'},\n",
       "   'author': None,\n",
       "   'title': 'Evacuation order in effect for folks at tent city in Maple Ridge - CityNews Vancouver',\n",
       "   'description': 'Evacuation order in effect for folks at tent city in Maple Ridge CityNews Vancouver More fires at controversial homeless camp in Maple Ridge Global News Three fires in three days at Maple Ridge homeless camp CityNews Vancouver Fire at Maple Ridge homeless cam…',\n",
       "   'url': 'https://www.citynews1130.com/2019/03/01/security-maple-ridge-petition/',\n",
       "   'urlToImage': 'https://www.citynews1130.com/wp-content/blogs.dir/sites/9/2019/03/01/fire.jpg',\n",
       "   'publishedAt': '2019-03-02T03:06:07Z',\n",
       "   'content': 'MAPLE RIDGE (NEWS 1130) —\\xa0The folks living at a tent city in Maple Ridge have been ordered evacuated.\\r\\nAbout 50 people live in the encampment, and the order says there is imminent danger to lives, because of fire hazards.\\r\\nThree fires have broken out at the s… [+2281 chars]'},\n",
       "  {'source': {'id': None, 'name': 'Globalnews.ca'},\n",
       "   'author': 'https://www.facebook.com/cknw980',\n",
       "   'title': 'More fires at controversial homeless camp in Maple Ridge - Global News',\n",
       "   'description': 'More fires at controversial homeless camp in Maple Ridge Global News Maple Ridge cannot just freeze out their homelessness dilemma The Globe and Mail Evacuation order issued for Maple Ridge homeless camp that saw 3 fires in one week Global News Evacuation ord…',\n",
       "   'url': 'https://globalnews.ca/news/5011718/anitas-place-maple-ridge/',\n",
       "   'urlToImage': 'https://shawglobalnews.files.wordpress.com/2019/03/2019-03-01t16-01-07.459z-135.561_848x480_1450523715843.jpg?quality=70&strip=all&w=720&h=379&crop=1',\n",
       "   'publishedAt': '2019-03-01T12:49:00Z',\n",
       "   'content': 'Yet another fire has broken out at the Anita Place homeless camp in Maple Ridge early Friday, the latest in a string of incidents that have residents and local businesses on edge.\\r\\nFire crews responded to what witnesses described as a massive blaze on 223 Str… [+2049 chars]'},\n",
       "  {'source': {'id': None, 'name': 'Npr.org'},\n",
       "   'author': 'Merrit Kennedy',\n",
       "   'title': 'Family Reunites With Dog Who Went Missing During The Deadly Camp Fire',\n",
       "   'description': 'The Akita named Kingston has been missing since the Camp Fire started. \"When I found out, [it] just about brought me to tears,\" the dog\\'s owner Gabriel Ballejos told a local television station.',\n",
       "   'url': 'https://www.npr.org/2019/02/21/696600114/family-reunites-with-dog-who-went-missing-during-the-deadly-camp-fire',\n",
       "   'urlToImage': 'https://media.npr.org/assets/img/2019/02/21/ap_19050809735820_wide-a58a4e5ab9ee81a9abdefc89ad57071255630c9e.jpg?s=1400',\n",
       "   'publishedAt': '2019-02-21T21:35:35Z',\n",
       "   'content': \"Maleah Ballejos reunited with her dog Kingston, who was missing for 101 days in the wake of the Camp Fire in Paradise, Calif.\\r\\nBen Lepe/AP\\r\\nAfter the deadliest wildfire in California's history last year, one family that fled has received a little joy. They we… [+1893 chars]\"},\n",
       "  {'source': {'id': 'time', 'name': 'Time'},\n",
       "   'author': 'Sudhin Thanawala and Cathy Bussewitz / AP',\n",
       "   'title': 'PG&E Says It Is ‘Probable’ Their Equipment Started California’s Deadliest Wildfire',\n",
       "   'description': 'Pacific Gas & Electric Corp. said it is \"probable\" one of its transmission lines ignited the deadly Camp Fire in California last year',\n",
       "   'url': 'http://time.com/5541645/pge-probable-cause-camp-fire-paradise-california/',\n",
       "   'urlToImage': 'https://timedotcom.files.wordpress.com/2019/02/gettyimages-1129061425.jpg?quality=85',\n",
       "   'publishedAt': '2019-03-01T02:52:13Z',\n",
       "   'content': '(SAN FRANCISCO) — Pacific Gas &amp; Electric Corp. inched closer to taking responsibility for the deadliest U.S. wildfire in a century, saying Thursday it is “probable” that one of its transmission lines sparked the blaze last year that killed 86 people and d… [+3158 chars]'},\n",
       "  {'source': {'id': 'the-guardian-au', 'name': 'The Guardian (AU)'},\n",
       "   'author': 'Ashley Boucher in Los Angeles',\n",
       "   'title': 'Burning Man finally fights Instagram culture and bans high-end camp',\n",
       "   'description': 'In a blog post, CEO Marian Goodell vowed to return the event to its roots and outlined ‘negative cultural trends’ Organizers behind the Burning Man festival – the annual counterculture celebration in Nevada’s Black Rock Desert – have finally acknowledged long…',\n",
       "   'url': 'https://www.theguardian.com/us-news/2019/feb/14/burning-man-finally-fights-instagram-culture-and-bans-high-end-camp',\n",
       "   'urlToImage': 'https://i.guim.co.uk/img/media/ad676576349e688fe8832ec86a2917f3f0da5b70/53_0_3394_2037/master/3394.jpg?width=1200&height=630&quality=85&auto=format&fit=crop&overlay-align=bottom%2Cleft&overlay-width=100p&overlay-base64=L2ltZy9zdGF0aWMvb3ZlcmxheXMvdGctZGVmYXVsdC5wbmc&s=38ea6099fdfade5efcc8d620d9a97b7c',\n",
       "   'publishedAt': '2019-02-14T23:39:09Z',\n",
       "   'content': 'Organizers behind the Burning Man festival the annual counterculture celebration in Nevadas Black Rock Desert have finally acknowledged long-time Burners complaint that the event has evolved too far from its roots.\\r\\nIn a lengthy blog post, CEO Marian Goodell … [+2658 chars]'},\n",
       "  {'source': {'id': 'business-insider', 'name': 'Business Insider'},\n",
       "   'author': 'Sophia Mitrokostas',\n",
       "   'title': 'The 10 deadliest wildfires in US history',\n",
       "   'description': \"Throughout US history, wildfires have burned through populated areas, leaving destruction, homelessness, and casualties in their wake. Death tolls from wildfires have been documented as far back as 1871. California's Camp Fire was the latest deadly travesty, …\",\n",
       "   'url': 'https://www.businessinsider.com/the-deadliest-wildfires-in-us-history-2019-2',\n",
       "   'urlToImage': 'https://amp.businessinsider.com/images/5c5b16d070a61e03fe4676f2-1920-960.jpg',\n",
       "   'publishedAt': '2019-03-01T16:37:51Z',\n",
       "   'content': 'On October 19, 1991, a fire broke out in the hills of Oakland, California. The Oakland Hills Fire, as it came to be known, started as a wind-driven brush fire, but exploded into a firestorm that roared through upscale residential neighborhoods, engulfing thou… [+235 chars]'},\n",
       "  {'source': {'id': 'the-guardian-au', 'name': 'The Guardian (AU)'},\n",
       "   'author': 'Associated Press',\n",
       "   'title': 'PG&E says its equipment may have started Camp fire in California',\n",
       "   'description': 'Fire killed 86 people and destroyed an entire town last year Pacific Gas & Electric says its equipment may have ignited the 2018 Camp Fire, which killed 86 people and destroyed an entire town in Northern California. The embattled utility said Thursday it’s ta…',\n",
       "   'url': 'https://www.theguardian.com/us-news/2019/feb/28/camp-fire-paradise-california-pacific-gas-electric-equipment',\n",
       "   'urlToImage': 'https://i.guim.co.uk/img/media/3d05cad295a8d5876c61dd56d6bdcec70b734182/33_0_3565_2140/master/3565.jpg?width=1200&height=630&quality=85&auto=format&fit=crop&overlay-align=bottom%2Cleft&overlay-width=100p&overlay-base64=L2ltZy9zdGF0aWMvb3ZlcmxheXMvdGctZGVmYXVsdC5wbmc&s=582b47efbbad70b2c7ff2895c0d12887',\n",
       "   'publishedAt': '2019-02-28T18:04:43Z',\n",
       "   'content': 'Pacific Gas &amp; Electric says its equipment may have ignited the 2018 Camp Fire, which killed 86 people and destroyed an entire town in Northern California.\\r\\nThe embattled utility said Thursday its taking a $10.5bn charge for claims connected to the Camp Fi… [+462 chars]'},\n",
       "  {'source': {'id': None, 'name': 'Moneycontrol.com'},\n",
       "   'author': None,\n",
       "   'title': 'IAF Air Strike LIVE: Pakistani jets violate Indian air space, enter Nowshera - Moneycontrol.com',\n",
       "   'description': 'IAF Air Strike LIVE: Pakistani jets violate Indian air space, enter Nowshera Moneycontrol.com Indian Army destroys 5 Pakistani posts in retaliation along LoC in J&K Times of India Civilians Along LoC Face Brunt of Shelling as Govt Fails to Construct Bunkers D…',\n",
       "   'url': 'https://www.moneycontrol.com/news/india/surgical-strike-2-0-live-updates-pakistani-f16-jet-shot-down-srinagar-jammu-amritsar-airports-closed-for-civilian-air-traffic-3582911.html',\n",
       "   'urlToImage': 'https://static-news.moneycontrol.com/static-mcnews/2019/02/RTRDKJF-770x433.jpg',\n",
       "   'publishedAt': '2019-02-27T05:49:01Z',\n",
       "   'content': 'Indian Army destroys 5 Pakistani posts in retaliation along LoC\\r\\nThe Indian Army destroyed five Pakistani posts along the Line of Control in Jammu and Kashmir yesterday night in a befitting retaliation to firing from across the border, resulting in a \"number … [+580 chars]'},\n",
       "  {'source': {'id': None, 'name': 'Marinecorpstimes.com'},\n",
       "   'author': 'Military Times',\n",
       "   'title': 'The Marine Corps is looking for new weapons to fend off Russian and Chinese missiles',\n",
       "   'description': \"US Marine Corps/Cpl. Aaron Henson The US military is shifting its focus to potentially fighting a sophisticated adversary. That means a foe that could threat US forces with missiles and other aerial weapons. For the Marine Corps, a new threat means there's a …\",\n",
       "   'url': 'https://www.marinecorpstimes.com/news/your-marine-corps/2019/02/11/why-the-corps-needs-a-system-to-shoot-down-russian-and-chinese-cruise-missiles/',\n",
       "   'urlToImage': 'https://amp.businessinsider.com/images/5c634eb4262898412a3a2c39-960-480.jpg',\n",
       "   'publishedAt': '2019-02-12T22:56:53Z',\n",
       "   'content': \"To survive in the vastness of the Pacific Ocean in a fight with a near-peer rival, the Corps will need weapon systems to contend with aerial and cruise missile threats. \\r\\n It's a problem the Corps hasn't had to deal with after years of counterinsurgency confl… [+3024 chars]\"},\n",
       "  {'source': {'id': None, 'name': 'Buzzfeednews.com'},\n",
       "   'author': 'Brianna Sacks',\n",
       "   'title': 'PG&E Says For The First Time It Believes Its Equipment Started The Deadliest Wildfire In California History',\n",
       "   'description': 'The utility \"believes it is probable that its equipment will be determined to be an ignition point\" for the Camp fire, which killed at least 85 people and reduced a town to ashes. View Entire Post ›',\n",
       "   'url': 'https://www.buzzfeednews.com/article/briannasacks/pge-started-camp-fire-california-deadly-wildfires',\n",
       "   'urlToImage': 'https://img.buzzfeed.com/buzzfeed-static/static/2019-02/28/17/campaign_images/buzzfeed-prod-web-03/pge-says-for-the-first-time-it-believes-its-equip-2-1871-1551394727-0_dblbig.jpg',\n",
       "   'publishedAt': '2019-02-28T23:05:33Z',\n",
       "   'content': \"LOS ANGELES A month after filing for bankruptcy over its role in igniting several devastating wildfires in California, the nation's largest utility company announced Thursday that it was likely responsible for the deadliest blaze in state history.\\r\\nPacific Ga… [+6981 chars]\"},\n",
       "  {'source': {'id': None, 'name': 'Huffpost.com'},\n",
       "   'author': 'Cyndy Etler',\n",
       "   'title': 'I Spent 16 Months Of My Childhood Locked In A Warehouse',\n",
       "   'description': 'The ACLU called it “a concentration camp for throwaway teens.”',\n",
       "   'url': 'https://www.huffpost.com/entry/straight-inc_n_5c76a914e4b062b30eba021e',\n",
       "   'urlToImage': 'https://img.huffingtonpost.com/asset/5c77edcd2400002f04a29cf1.jpeg?ops=1910_1000',\n",
       "   'publishedAt': '2019-03-01T14:00:30Z',\n",
       "   'content': 'When I was a kid, my mother locked me in a warehouse and left me there. For 16 months. Her husband had been beating and molesting me, but then I hit puberty and started fighting back and nobody wants to deal with a loud, angry teenager.\\r\\nThe warehouse was occ… [+13449 chars]'},\n",
       "  {'source': {'id': None, 'name': 'Boingboing.net'},\n",
       "   'author': 'Xeni Jardin',\n",
       "   'title': 'VP Mike Pence to visit Auschwitz death camp on Europe trip',\n",
       "   'description': '“The vice president will essentially call out Iran for their actions. He will give a message to those groups that are there, that, you know, if you stand with us, we’ll stand with you,” a White House official said.',\n",
       "   'url': 'https://boingboing.net/2019/02/11/vp-mike-pence-to-visit-auschwi.html',\n",
       "   'urlToImage': 'https://media.boingboing.net/wp-content/uploads/2019/02/mikepence.jpg',\n",
       "   'publishedAt': '2019-02-12T00:44:28Z',\n",
       "   'content': 'The vice president will essentially call out Iran for their actions. He will give a message to those groups that are there, that, you know, if you stand with us, well stand with you, a White House official said.\\r\\nConservative Christian and expressionless piec… [+3248 chars]'},\n",
       "  {'source': {'id': None, 'name': 'Lifehacker.com'},\n",
       "   'author': 'Stephen Johnson on Offspring, shared by Stephen Johnson to Lifehacker',\n",
       "   'title': \"How to Play Far Cry New Dawn in 'Dad Mode'\",\n",
       "   'description': 'Far Cry New Dawn, the newest release in Ubisoft’s open world Far Cry series, is set years after the apocalyptic nuclear event that ended Far Cry 5. Hope County, Montana has been nearly destroyed, but a rag-tag band of survivors wants to rebuild. Your job is t…',\n",
       "   'url': 'https://offspring.lifehacker.com/how-to-play-far-cry-new-dawn-in-dad-mode-1832662007',\n",
       "   'urlToImage': 'https://i.kinja-img.com/gawker-media/image/upload/s--CrPBqXZ1--/c_fill,fl_progressive,g_center,h_900,q_80,w_1600/m2awazuorfrwt2u4grlm.jpg',\n",
       "   'publishedAt': '2019-02-19T21:00:00Z',\n",
       "   'content': 'Far Cry New Dawn, the newest release in Ubisofts open world Far Cry series, is set years after the apocalyptic nuclear event that ended Far Cry 5. Hope County, Montana has been nearly destroyed, but a rag-tag band of survivors wants to rebuild. Your job is to… [+6218 chars]'},\n",
       "  {'source': {'id': None, 'name': 'Huffpost.com'},\n",
       "   'author': 'Nina Golgowski',\n",
       "   'title': 'California Man Sentenced To 12 Years In Prison For Starting Cranston Wildfire',\n",
       "   'description': 'Brandon McGlover, 33, pleaded guilty to setting the fire that destroyed more than 13,000 acres east of Los Angeles.',\n",
       "   'url': 'https://www.huffpost.com/entry/brandon-mcglover-sentened-cranston-fire_n_5c6abe92e4b05c889d21b1de',\n",
       "   'urlToImage': 'https://img.huffingtonpost.com/asset/5c6ad50f250000590480a5a4.jpeg?ops=1910_1000',\n",
       "   'publishedAt': '2019-02-18T16:39:56Z',\n",
       "   'content': 'A Southern California man has been sentenced to 12 years in prison after pleading guilty to starting a wildfire last summer that destroyed more than 13,000 acres east of Los Angeles.\\r\\nBrandon McGlover, 33, pleaded guilty on Thursday to two counts of arson to … [+1593 chars]'},\n",
       "  {'source': {'id': 'usa-today', 'name': 'USA Today'},\n",
       "   'author': 'USA TODAY, Kristin Lam, USA TODAY',\n",
       "   'title': 'Dog reunited 101 days after California wildfire; family believes he survived eating skunks',\n",
       "   'description': 'The Ballejos family reunited with their dog 101 days after a devastating wildfire began, believing he survived by eating skunks.',\n",
       "   'url': 'https://www.usatoday.com/story/news/2019/02/19/camp-fire-dog-reunited-101-days-after-california-wildfire/2921836002/?utm_source=google&utm_medium=amp&utm_campaign=speakable',\n",
       "   'urlToImage': 'https://www.gannett-cdn.com/presto/2019/02/20/USAT/198aa92c-8a32-477f-8037-ea04b0fcfe9a-AP_California_Wildfire_Dog_Reunited.JPG?crop=749,427,x0,y21&width=3200&height=1680&fit=bounds',\n",
       "   'publishedAt': '2019-02-20T05:13:30Z',\n",
       "   'content': 'This Feb. 18, 2019 photo provided by Ben Lepe shows Maleah Ballejos reunited with her dog Kingston in Paradise, Calif. The Akita named Kingston was reunited with his family 101 days after he jumped out of their truck as they fled a devastating Northern Califo… [+2115 chars]'},\n",
       "  {'source': {'id': None, 'name': 'Instructables.com'},\n",
       "   'author': 'Ham-made',\n",
       "   'title': 'Dryer Lint Fire Starter Twigs',\n",
       "   'description': '<!--dda7bd42579b4dc0937c45f979fc5c69-->Every year, thousands of house fires are caused by dryer lint. The lint accumulates over time along the inner walls of the dryer’s exhaust system and if not properly maintained, that surplus of lint has the potential to …',\n",
       "   'url': 'https://www.instructables.com/id/Dryer-Lint-Fire-Starter-Twigs/',\n",
       "   'urlToImage': 'https://www.instructables.com/files/orig/FEI/S5TK/JSPA8LJW/FEIS5TKJSPA8LJW.gif?width=680',\n",
       "   'publishedAt': '2019-03-01T04:46:54Z',\n",
       "   'content': 'Every year, thousands of house fires are caused by dryer lint. The lint accumulates over time along the inner walls of the dryers exhaust system and if not properly maintained, that surplus of lint has the potential to ignite and cause a fire. \\r\\nTo increase t… [+517 chars]'},\n",
       "  {'source': {'id': 'usa-today', 'name': 'USA Today'},\n",
       "   'author': 'USA TODAY, Kristin Lam, USA TODAY',\n",
       "   'title': 'Verizon Super Bowl ads honor California firefighters after throttling their data speeds',\n",
       "   'description': \"Verizon paid tribute to California first responders in a pair of Super Bowl advertisements Sunday following criticism for throttling firefighters' data speeds last summer during the one of the state's largest wildfires.\",\n",
       "   'url': 'https://www.usatoday.com/story/news/2019/02/03/verizon-super-bowl-ads-honor-california-firefighters-after-controversy/2765137002/?utm_source=google&utm_medium=amp&utm_campaign=speakable',\n",
       "   'urlToImage': 'https://www.gannett-cdn.com/presto/2018/12/19/USAT/5cb5a705-5c8b-4fab-adee-d4c3cd3a8530-20180701.jpg?crop=5567,3117,x0,y0&width=3200&height=1680&fit=bounds',\n",
       "   'publishedAt': '2019-02-04T04:32:36Z',\n",
       "   'content': \"Twin fires north of San Francisco burning just miles apart became the largest collective wildfire in state history on Monday. The Mendocino Complex fire has destroyed more than 443 square miles of forest and rural areas. It's still growing. (Aug. 7)\\r\\n AP\\r\\nVer… [+2575 chars]\"}]}"
      ]
     },
     "execution_count": 58,
     "metadata": {},
     "output_type": "execute_result"
    }
   ],
   "source": [
    "# Or use \"https://newsapi.org/v2/top-headlines\"\n",
    "\n",
    "response = requests.get(\"https://newsapi.org/v2/everything\", params = {\n",
    "    \"q\": \"camp fire\",\n",
    "    \"sortBy\": \"relevancy\",\n",
    "    \"apiKey\": key\n",
    "})\n",
    "\n",
    "response.raise_for_status()\n",
    "\n",
    "r = response.json()"
   ]
  },
  {
   "cell_type": "code",
   "execution_count": 59,
   "metadata": {},
   "outputs": [],
   "source": [
    "# Get google news links for each search term\n",
    "search_term_links = [\n",
    "    \"https://news.google.com/search?q=camp%20fire&hl=en-US&gl=US&ceid=US%3Aen\",\n",
    "    \"https://news.google.com/search?for=camp%20fire%20death%20toll&hl=en-US&gl=US&ceid=US%3Aen\",\n",
    "    \"https://news.google.com/search?for=camp%20fire%20california&hl=en-US&gl=US&ceid=US%3Aen\",\n",
    "    \"https://news.google.com/search?for=camp%20fire%20paradise&hl=en-US&gl=US&ceid=US%3Aen\",\n",
    "    \"https://news.google.com/search?for=camp%20fire%20map&hl=en-US&gl=US&ceid=US%3Aen\",\n",
    "    \"https://news.google.com/search?for=camp%20fire%20news&hl=en-US&gl=US&ceid=US%3Aen\",\n",
    "    \"https://news.google.com/search?for=camp%20fire%20cleanup&hl=en-US&gl=US&ceid=US%3Aen\",\n",
    "    \"https://news.google.com/search?for=camp%20fire%20debris%20removal&hl=en-US&gl=US&ceid=US%3Aen\",\n",
    "    \"https://news.google.com/search?for=camp%20fire%20pg&e&hl=en-US&gl=US&ceid=US%3Aen\",\n",
    "    \"https://news.google.com/search?for=camp%20fire%20investigation&hl=en-US&gl=US&ceid=US%3Aen\"\n",
    "]"
   ]
  },
  {
   "cell_type": "code",
   "execution_count": 76,
   "metadata": {},
   "outputs": [],
   "source": [
    "# Get article links\n",
    "def get_links(url):\n",
    "    \"\"\"Gets the article links for one Chronicle article list. The parameter \"url\" is the url to the \n",
    "    article list.\"\"\"\n",
    "    \n",
    "    response = requests.get(url)\n",
    "    response.raise_for_status()\n",
    "    html = lx.fromstring(response.text)\n",
    "    html.make_links_absolute(url)\n",
    "    \n",
    "    # Get the links that contain the word \"article\".\n",
    "    #links = html.xpath(\"//div/a/@href\")\n",
    "    links = html.xpath(\"//*[contains(@class, 'NiLAwe y6IFtc R7GTQ keNKEd j7vNaf nID9nc')]/a/@href\")\n",
    "    #\n",
    "    \n",
    "    # Remove duplicate links.\n",
    "    #links = list(set(links))\n",
    "\n",
    "    return links"
   ]
  },
  {
   "cell_type": "code",
   "execution_count": 82,
   "metadata": {},
   "outputs": [
    {
     "data": {
      "text/plain": [
       "703"
      ]
     },
     "execution_count": 82,
     "metadata": {},
     "output_type": "execute_result"
    }
   ],
   "source": [
    "# Get the unique links\n",
    "l = [get_links(l) for l in search_term_links]\n",
    "#links_set = set([item for sublist in l for item in sublist])\n",
    "#list(links_set)\n",
    "l_all = [item for sublist in l for item in sublist]\n",
    "len(np.unique(l_all))"
   ]
  },
  {
   "cell_type": "code",
   "execution_count": 51,
   "metadata": {},
   "outputs": [
    {
     "data": {
      "text/plain": [
       "'https://www.cnn.com/2019/02/08/us/camp-fire-deaths/index.html'"
      ]
     },
     "execution_count": 51,
     "metadata": {},
     "output_type": "execute_result"
    }
   ],
   "source": [
    "links = get_links(\"https://news.google.com/topics/CAAqKAgKIiJDQkFTRXdvTkwyY3ZNVEZtYUc1bWVuRnFaaElDWlc0b0FBUAE?hl=en-US&gl=US&ceid=US%3Aen\")\n",
    "links[0]"
   ]
  },
  {
   "cell_type": "code",
   "execution_count": 55,
   "metadata": {},
   "outputs": [],
   "source": [
    "def get_article_text(link):\n",
    "    article = Article(link)\n",
    "    article.download()\n",
    "    article.parse()\n",
    "    return article.text"
   ]
  },
  {
   "cell_type": "code",
   "execution_count": null,
   "metadata": {},
   "outputs": [],
   "source": []
  }
 ],
 "metadata": {
  "kernelspec": {
   "display_name": "Python 3",
   "language": "python",
   "name": "python3"
  },
  "language_info": {
   "codemirror_mode": {
    "name": "ipython",
    "version": 3
   },
   "file_extension": ".py",
   "mimetype": "text/x-python",
   "name": "python",
   "nbconvert_exporter": "python",
   "pygments_lexer": "ipython3",
   "version": "3.7.1"
  }
 },
 "nbformat": 4,
 "nbformat_minor": 2
}
