{
 "cells": [
  {
   "cell_type": "code",
   "execution_count": 1,
   "metadata": {},
   "outputs": [],
   "source": [
    "import tweepy"
   ]
  },
  {
   "cell_type": "code",
   "execution_count": 6,
   "metadata": {},
   "outputs": [
    {
     "name": "stdout",
     "output_type": "stream",
     "text": [
      "Christina Chang\n"
     ]
    }
   ],
   "source": [
    "consumer_key = \"z6VGZHRGNwybqWyonTN2QDKb7\"\n",
    "consumer_secret = \"j3MatsgQyn7G48RXyjxkbOKpd4TE2QxTNRLiZg0AubEuK63ER2\"\n",
    "access_token = '955033387-u84QPMj9J1pACjcoa369HW3EAwO6NAdC2IwKITE0'\n",
    "access_token_secret = 'EQwqi2xaCZEWJnhB6dChearbmem4HlMfQHtewQoidCzYu'\n",
    "\n",
    "# make the connection\n",
    "auth = tweepy.OAuthHandler(consumer_key, consumer_secret)\n",
    "auth.set_access_token(access_token, access_token_secret)\n",
    "api = tweepy.API(auth)\n",
    "\n",
    "user = api.me()\n",
    "print (user.name)"
   ]
  },
  {
   "cell_type": "code",
   "execution_count": null,
   "metadata": {},
   "outputs": [],
   "source": [
    "API.search"
   ]
  }
 ],
 "metadata": {
  "kernelspec": {
   "display_name": "Python 3",
   "language": "python",
   "name": "python3"
  },
  "language_info": {
   "codemirror_mode": {
    "name": "ipython",
    "version": 3
   },
   "file_extension": ".py",
   "mimetype": "text/x-python",
   "name": "python",
   "nbconvert_exporter": "python",
   "pygments_lexer": "ipython3",
   "version": "3.7.0"
  }
 },
 "nbformat": 4,
 "nbformat_minor": 2
}
