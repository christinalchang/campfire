{
 "cells": [
  {
   "cell_type": "markdown",
   "metadata": {},
   "source": [
    "***Paradise News:***\n",
    "\n",
    "https://www.paradisepost.com/tag/camp-fire/ "
   ]
  },
  {
   "cell_type": "code",
   "execution_count": 1,
   "metadata": {},
   "outputs": [],
   "source": [
    "import matplotlib.pyplot as plt\n",
    "import numpy as np\n",
    "import pandas as pd\n",
    "import scipy as sp \n",
    "import seaborn as sns\n",
    "%matplotlib inline\n",
    "import lxml.html as lx\n",
    "import requests\n",
    "import requests_cache\n",
    "import nltk\n",
    "import nltk.corpus\n",
    "import time\n",
    "import re\n",
    "from nltk.corpus import wordnet\n",
    "requests_cache.install_cache(\"my_cache_paradise\")"
   ]
  },
  {
   "cell_type": "code",
   "execution_count": 5,
   "metadata": {},
   "outputs": [],
   "source": [
    "def total_articles(url): \n",
    "    response = requests.get(url)\n",
    "    time.sleep(1)\n",
    "    response.raise_for_status()\n",
    "    html = lx.fromstring(response.text)\n",
    "    html.make_links_absolute(url)\n",
    "    dup_links = html.xpath(\"//h4/a/@href\")\n",
    "    links = list(set(dup_links))\n",
    "    return links"
   ]
  },
  {
   "cell_type": "code",
   "execution_count": 24,
   "metadata": {
    "scrolled": true
   },
   "outputs": [],
   "source": [
    "#total_articles(\"https://www.paradisepost.com/tag/camp-fire/\") ##10 most current articles "
   ]
  },
  {
   "cell_type": "code",
   "execution_count": 21,
   "metadata": {},
   "outputs": [],
   "source": [
    "#accounting for multiple pages\n",
    "def mult_pages(url, page): \n",
    "    \"\"\"takes in url as a string and number of pages wanting to read through (each page will give 10 articles)\"\"\"\n",
    "    empty = []\n",
    "    for i in list(range(0,page)):\n",
    "        current_iterate = total_articles(\"https://www.paradisepost.com/tag/camp-fire/\" + (\"page\" + str(i)))\n",
    "        empty = empty + current_iterate\n",
    "    return empty "
   ]
  },
  {
   "cell_type": "code",
   "execution_count": 23,
   "metadata": {},
   "outputs": [],
   "source": [
    "#mult_pages(\"https://www.paradisepost.com/tag/camp-fire/\", 5) ##50 most current articles "
   ]
  },
  {
   "cell_type": "code",
   "execution_count": 55,
   "metadata": {},
   "outputs": [],
   "source": [
    "#take out related articles. receive the text \n",
    "def single_article(url): \n",
    "    response = requests.get(url)\n",
    "    time.sleep(1)\n",
    "    html = lx.fromstring(response.text)\n",
    "   \n",
    "    #text\n",
    "    text = html.xpath(\"//div[contains(@class, 'article-body')]/div[contains(@class, 'body-copy')]/p/text()[not(descendant::em)]\")\n",
    "    text = ' '.join(text)\n",
    "    \n",
    "    #dates\n",
    "    dates = html.xpath(\"//div[contains(@class, 'time')]/time/@datetime\")\n",
    "    #first date is published, second date is updated \n",
    "    \n",
    "    return {\"url\": url, \"text\": text, \"dates\": dates}\n",
    "\n"
   ]
  },
  {
   "cell_type": "code",
   "execution_count": 56,
   "metadata": {
    "scrolled": true
   },
   "outputs": [
    {
     "data": {
      "text/plain": [
       "{'url': 'https://www.paradisepost.com/2019/03/02/after-the-flames-a-call-for-help-a-journey-to-recovery/',\n",
       " 'text': 'The morning of the Camp Fire, former Paradise resident Ashley Joyner was at home, watching over seven children ranging in age from 17 to just one year old. Two of the children were her own and five belonged to her friend, who she regularly helped by babysitting. “That morning, I went and dropped my kids off at the (school) bus stop. There was no sign of a fire,” Joyner said. “Finally the bus showed up, and not even 15-20 minutes later, I’m getting phone calls from the school, telling me I got to go pick up the kids.” Joyner said as soon as she stepped outside, “it looked like a volcano had erupted.” What happened next was similar to so many other stories from that terrible day, but Joyner’s story was — at least partially — captured by her emotional 911 call that morning. https://www.chicoer.com/wp-content/uploads/2019/02/11-08-18-08.35.57-Phones-02-TEL-POS-2_Redacted.wav Joyner’s call was one of 266 calls recently released by Cal Fire, out of 1,300 total. However, she was one of the few callers to give her full name on that hectic and traumatic morning. “As soon as I heard it, I broke down, I started crying,” Joyner said. “I didn’t really remember what all I had said until I actually listened to the phone call, and it just brought everything back. I mean, the fear and just the emotions … it was just all crazy.” By 8:35 a.m., a spot fire had started on her property near Clark Road and the Skyway and the flames were growing rapidly. Joyner says she only had minutes to evacuate the seven children and herself into a single car that wouldn’t safely fit all of them. She called 911 as the fire spread on her property, and got the California Highway Patrol, who promptly transferred her to Cal Fire’s dispatch center in Oroville. “I was hollering for the oldest, his name was Zach,” Joyner recalled. “I was sitting outside trying to water it, to buy us a little time to get all the kids out of the house and into the car.” All seven children were in the car when the mother of the children she was taking care of showed up, Joyner said. “She was down in Oroville working, and I was on the phone with her throughout the whole morning telling her, ‘Hey you need to get up here.’” As soon as her friend arrived, Joyner said they had to leave. “There was no time to gather anything, and she was all, ‘Well I need this, I need that,’ and no, there was no time.” Joyner and her children escaped down the hill to Chico with nothing but the clothes on their backs, watching their house succumb to the fire as they drove away. The drive to safety down the hill would take a full eight hours. “My kids they were crying, scared, didn’t know what was going on,” Joyner said. “We looked behind us, and we saw our place go up in flames. We knew before Cal Fire told us. We knew beforehand that it was gone, because we watched it go up.” In the immediate aftermath of the fire, the family stayed in a motel for a few weeks, but eventually needed to find new housing and were faced with living in their car. “I came to a friend’s house, and I just broke down crying telling her, we’re going to end up living out of our car or in a tent,” Joyner said. “I was gonna sleep in my car or something and I was gonna have my kids stay with friends.” At the same time, Joyner’s husband lost his job after taking too much time off after the fire. So their friend took them in, at her own home in Oroville, and that’s where they’ve been ever since. But soon, she said, the family may consider a move to rural Wisconsin, where Joyner’s husband’s family lives. Her husband also found a new job, working as a forklift operator. “We’re looking, possibly. We want to wait until school is out; we want the kids to finish up,” she said. Joyner said her daughter, who is 6, is doing OK, mostly concerned with the loss of her toys and not being able to see her friends. “Her number one thing is her friends that she left behind and (I tell her) ‘Honey, your friends are scattered everywhere right now,” Joyner said. “She wants to go home, and I keep telling her we can’t, we don’t have a home to go to.” Her son, who is 11, is having a rougher time of it. “We tried getting him into counseling through the school but he refuses to do it; he doesn’t want to talk about it. He doesn’t want to talk to nobody,” Joyner said. “He wakes up crying at night, and the doctor said he’s probably got a little bit of PTSD, which I kind of figured he did. The first week he woke up constantly looking out the windows, asking if the fire was coming.” For her own part, Joyner said hearing the 911 call brought back a flood of emotional memories. “I never thought I would ever hear it,” she said. “It brought back so much, so many emotions that I didn’t really know how to deal with it at the moment.” Joyner said she went outside and cried after hearing her panicked voice in the call from that morning. She said she tries hard not to be emotional, especially around her children. “I’ve been actually thinking about trying to find somebody that I can actually talk to,” Joyner said. “I don’t want them to see me break down.”',\n",
       " 'dates': ['2019-03-02 04:00:43', '2019-03-02 04:01:03']}"
      ]
     },
     "execution_count": 56,
     "metadata": {},
     "output_type": "execute_result"
    }
   ],
   "source": [
    "single_article(\"https://www.paradisepost.com/2019/03/02/after-the-flames-a-call-for-help-a-journey-to-recovery/\")"
   ]
  }
 ],
 "metadata": {
  "kernelspec": {
   "display_name": "Python 3",
   "language": "python",
   "name": "python3"
  },
  "language_info": {
   "codemirror_mode": {
    "name": "ipython",
    "version": 3
   },
   "file_extension": ".py",
   "mimetype": "text/x-python",
   "name": "python",
   "nbconvert_exporter": "python",
   "pygments_lexer": "ipython3",
   "version": "3.7.1"
  }
 },
 "nbformat": 4,
 "nbformat_minor": 2
}
